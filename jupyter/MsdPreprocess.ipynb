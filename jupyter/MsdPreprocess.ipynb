{
 "cells": [
  {
   "cell_type": "code",
   "execution_count": 1,
   "metadata": {
    "tags": []
   },
   "outputs": [],
   "source": [
    "import pandas as pd\n",
    "import numpy as np\n",
    "import scipy.stats as ss\n",
    "\n",
    "import lightfm\n",
    "import lightfm.data as ld\n",
    "import lightfm.evaluation as lv\n",
    "\n",
    "import tqdm\n",
    "import json\n",
    "import optuna\n",
    "\n",
    "import tensorboardX as tb\n",
    "\n",
    "import matplotlib.pyplot as pl\n",
    "import seaborn as sns\n",
    "\n",
    "np.random.seed(31337)"
   ]
  },
  {
   "cell_type": "code",
   "execution_count": 2,
   "metadata": {
    "tags": []
   },
   "outputs": [],
   "source": [
    "DATA_DIR = \"/home/n.anokhin/data/msd/\"\n",
    "TRACKS = 50_000"
   ]
  },
  {
   "cell_type": "markdown",
   "metadata": {},
   "source": [
    "## Read and preprocess data\n",
    "\n",
    "### Usage data"
   ]
  },
  {
   "cell_type": "code",
   "execution_count": 3,
   "metadata": {
    "tags": []
   },
   "outputs": [],
   "source": [
    "# http://millionsongdataset.com/tasteprofile/#getting\n",
    "raw_data = pd.read_csv(DATA_DIR + \"raw/train_triplets.txt\", sep=\"\\t\", names=[\"user_id\", \"song_id\", \"play_count\"])\n",
    "raw_data = raw_data[raw_data[\"play_count\"] > 1].copy()"
   ]
  },
  {
   "cell_type": "code",
   "execution_count": 4,
   "metadata": {
    "tags": []
   },
   "outputs": [],
   "source": [
    "top_songs = raw_data[\"song_id\"].value_counts()[:TRACKS].astype(float)\n",
    "top_songs_data = raw_data[raw_data[\"song_id\"].isin(top_songs.index)].copy()"
   ]
  },
  {
   "cell_type": "code",
   "execution_count": 5,
   "metadata": {
    "tags": []
   },
   "outputs": [],
   "source": [
    "user_song_counts = top_songs_data[\"user_id\"].value_counts()\n",
    "top_users = user_song_counts[user_song_counts >= 20]"
   ]
  },
  {
   "cell_type": "code",
   "execution_count": 6,
   "metadata": {
    "tags": []
   },
   "outputs": [],
   "source": [
    "data = top_songs_data[top_songs_data[\"user_id\"].isin(top_users.index)].copy()\n",
    "data[\"test\"] = np.random.random(len(data)) < 0.2"
   ]
  },
  {
   "cell_type": "code",
   "execution_count": 7,
   "metadata": {
    "tags": []
   },
   "outputs": [
    {
     "data": {
      "text/plain": [
       "(264428, 50000)"
      ]
     },
     "execution_count": 7,
     "metadata": {},
     "output_type": "execute_result"
    }
   ],
   "source": [
    "dataset = ld.Dataset()\n",
    "dataset.fit(data[\"user_id\"], data[\"song_id\"])\n",
    "\n",
    "len(dataset.mapping()[0]), len(dataset.mapping()[2])"
   ]
  },
  {
   "cell_type": "markdown",
   "metadata": {},
   "source": [
    "### Track metadata"
   ]
  },
  {
   "cell_type": "code",
   "execution_count": 8,
   "metadata": {
    "tags": []
   },
   "outputs": [
    {
     "data": {
      "text/html": [
       "<div>\n",
       "<style scoped>\n",
       "    .dataframe tbody tr th:only-of-type {\n",
       "        vertical-align: middle;\n",
       "    }\n",
       "\n",
       "    .dataframe tbody tr th {\n",
       "        vertical-align: top;\n",
       "    }\n",
       "\n",
       "    .dataframe thead th {\n",
       "        text-align: right;\n",
       "    }\n",
       "</style>\n",
       "<table border=\"1\" class=\"dataframe\">\n",
       "  <thead>\n",
       "    <tr style=\"text-align: right;\">\n",
       "      <th></th>\n",
       "      <th>artist</th>\n",
       "      <th>title</th>\n",
       "      <th>genre</th>\n",
       "      <th>pop</th>\n",
       "      <th>track</th>\n",
       "    </tr>\n",
       "  </thead>\n",
       "  <tbody>\n",
       "    <tr>\n",
       "      <th>SOFRQTD12A81C233C0</th>\n",
       "      <td>Harmonia</td>\n",
       "      <td>Sehr kosmisch</td>\n",
       "      <td>Pop_Rock</td>\n",
       "      <td>65688.0</td>\n",
       "      <td>7</td>\n",
       "    </tr>\n",
       "    <tr>\n",
       "      <th>SOAUWYT12A81C206F1</th>\n",
       "      <td>Björk</td>\n",
       "      <td>Undo</td>\n",
       "      <td>None</td>\n",
       "      <td>57660.0</td>\n",
       "      <td>0</td>\n",
       "    </tr>\n",
       "    <tr>\n",
       "      <th>SOBONKR12A58A7A7E0</th>\n",
       "      <td>Dwight Yoakam</td>\n",
       "      <td>You're The One</td>\n",
       "      <td>Country</td>\n",
       "      <td>55035.0</td>\n",
       "      <td>2</td>\n",
       "    </tr>\n",
       "    <tr>\n",
       "      <th>SOAXGDH12A8C13F8A1</th>\n",
       "      <td>Florence + The Machine</td>\n",
       "      <td>Dog Days Are Over (Radio Edit)</td>\n",
       "      <td>None</td>\n",
       "      <td>52773.0</td>\n",
       "      <td>1</td>\n",
       "    </tr>\n",
       "    <tr>\n",
       "      <th>SOSXLTC12AF72A7F54</th>\n",
       "      <td>Kings Of Leon</td>\n",
       "      <td>Revelry</td>\n",
       "      <td>Pop_Rock</td>\n",
       "      <td>48290.0</td>\n",
       "      <td>15</td>\n",
       "    </tr>\n",
       "  </tbody>\n",
       "</table>\n",
       "</div>"
      ],
      "text/plain": [
       "                                    artist                           title  \\\n",
       "SOFRQTD12A81C233C0                Harmonia                   Sehr kosmisch   \n",
       "SOAUWYT12A81C206F1                   Björk                            Undo   \n",
       "SOBONKR12A58A7A7E0           Dwight Yoakam                  You're The One   \n",
       "SOAXGDH12A8C13F8A1  Florence + The Machine  Dog Days Are Over (Radio Edit)   \n",
       "SOSXLTC12AF72A7F54           Kings Of Leon                         Revelry   \n",
       "\n",
       "                       genre      pop  track  \n",
       "SOFRQTD12A81C233C0  Pop_Rock  65688.0      7  \n",
       "SOAUWYT12A81C206F1      None  57660.0      0  \n",
       "SOBONKR12A58A7A7E0   Country  55035.0      2  \n",
       "SOAXGDH12A8C13F8A1      None  52773.0      1  \n",
       "SOSXLTC12AF72A7F54  Pop_Rock  48290.0     15  "
      ]
     },
     "execution_count": 8,
     "metadata": {},
     "output_type": "execute_result"
    }
   ],
   "source": [
    "# http://millionsongdataset.com/sites/default/files/AdditionalFiles/unique_tracks.txt\n",
    "meta = pd.read_csv(\n",
    "    DATA_DIR + \"raw/unique_tracks.txt\", \n",
    "    sep=\"<SEP>\", \n",
    "    engine=\"python\", \n",
    "    names=[\"track_id\", \"song_id\", \"artist\", \"title\"]\n",
    ")\n",
    "\n",
    "# http://www.ifs.tuwien.ac.at/mir/msd/partitions/msd-MAGD-genreAssignment.cls\n",
    "genre = pd.read_csv(\n",
    "    DATA_DIR + \"raw/ifs.tuwien.ac.at_mir_msd_partitions_msd-MAGD-genreAssignment.cls.txt\", \n",
    "    sep=\"\\t\", \n",
    "    header=None, \n",
    "    names=[\"track_id\", \"genre\"],\n",
    ")\n",
    "\n",
    "meta = (\n",
    "    pd.merge(meta, genre, left_on=\"track_id\", right_on=\"track_id\", how=\"left\")\n",
    "        .set_index(\"song_id\")\n",
    "        .drop(\"track_id\", axis=1)\n",
    "        .groupby(level=0)\n",
    "        .last()\n",
    "        .loc[top_songs.index]\n",
    ")\n",
    "\n",
    "top_songs_meta = pd.merge(\n",
    "    pd.merge(meta, top_songs.to_frame(\"pop\"), right_index=True, left_index=True),\n",
    "    pd.Series(dataset.mapping()[2]).to_frame(\"track\"), \n",
    "    right_index=True, \n",
    "    left_index=True, \n",
    "    how=\"left\",\n",
    ").sort_values(\"pop\", ascending=False)\n",
    "\n",
    "# Check that every track has meta\n",
    "assert pd.isna(top_songs_meta[\"track\"]).sum() == 0 \n",
    "\n",
    "# Check all tracks are there\n",
    "assert sorted(top_songs_meta[\"track\"]) == list(range(TRACKS))\n",
    "\n",
    "top_songs_meta.to_json(DATA_DIR + \"processed/tracks.json\", lines=True, orient=\"records\")\n",
    "\n",
    "top_songs_meta.head(5)"
   ]
  },
  {
   "cell_type": "markdown",
   "metadata": {},
   "source": [
    "## Train embeddings model"
   ]
  },
  {
   "cell_type": "code",
   "execution_count": 9,
   "metadata": {
    "tags": []
   },
   "outputs": [],
   "source": [
    "train_data = data[~data[\"test\"]]\n",
    "test_data = data[data[\"test\"]]"
   ]
  },
  {
   "cell_type": "code",
   "execution_count": 10,
   "metadata": {
    "tags": []
   },
   "outputs": [],
   "source": [
    "train_interactions, _ = dataset.build_interactions(train_data[[\"user_id\", \"song_id\"]].itertuples(index=False, name=None))\n",
    "test_interactions, _ = dataset.build_interactions(test_data[[\"user_id\", \"song_id\"]].itertuples(index=False, name=None))"
   ]
  },
  {
   "cell_type": "code",
   "execution_count": 11,
   "metadata": {
    "tags": []
   },
   "outputs": [],
   "source": [
    "def fit_model(epochs=1, at=10, no_components=30, learning_rate=0.01, max_sampled=10, user_alpha=0.0, item_alpha=0.0, threads=30, verbose=False):\n",
    "    model = lightfm.LightFM(\n",
    "        no_components=no_components,\n",
    "        loss=\"warp\",\n",
    "        learning_rate=learning_rate,\n",
    "        max_sampled=max_sampled,\n",
    "        user_alpha=user_alpha,\n",
    "        item_alpha=user_alpha,\n",
    "    )\n",
    "\n",
    "    precisions_at = []\n",
    "    for epoch in range(epochs):\n",
    "        model = model.fit_partial(train_interactions, num_threads=threads)\n",
    "        precision_at = lv.precision_at_k(model, test_interactions, train_interactions=train_interactions, k=at, num_threads=threads)\n",
    "        if verbose:\n",
    "            print(f\"{epoch}:\\t{np.mean(precision_at)} +/- {ss.sem(precision_at) * 1.96}\")\n",
    "        precisions_at.append(np.mean(precision_at))\n",
    "            \n",
    "    return model, precisions_at\n",
    "\n",
    "\n",
    "def objective(trial):\n",
    "    no_components = trial.suggest_categorical(\"no_components\", [30, 50, 100])\n",
    "    learning_rate = trial.suggest_categorical(\"learning_rate\", [0.001, 0.01])\n",
    "    max_sampled = trial.suggest_categorical(\"max_sampled\", [10, 20, 50, 100])\n",
    "    user_alpha = trial.suggest_categorical(\"user_alpha\", [0.0, 0.001, 0.01])\n",
    "    item_alpha = trial.suggest_categorical(\"item_alpha\", [0.0, 0.001, 0.01])\n",
    "    \n",
    "    model, precisions_at = fit_model(\n",
    "        epochs=5, \n",
    "        at=10, \n",
    "        no_components=no_components, \n",
    "        learning_rate=learning_rate, \n",
    "        max_sampled=max_sampled, \n",
    "        user_alpha=user_alpha, \n",
    "        item_alpha=item_alpha,\n",
    "    )\n",
    "    \n",
    "    return precisions_at[-1]"
   ]
  },
  {
   "cell_type": "raw",
   "metadata": {},
   "source": [
    "study = optuna.create_study(direction=\"maximize\")\n",
    "study.optimize(objective, n_trials=100)\n",
    "best_params = study.best_params"
   ]
  },
  {
   "cell_type": "code",
   "execution_count": 12,
   "metadata": {
    "tags": []
   },
   "outputs": [],
   "source": [
    "best_params = {\n",
    "    'no_components': 100,\n",
    "    'learning_rate': 0.01,\n",
    "    'max_sampled': 100,\n",
    "    'user_alpha': 0.0,\n",
    "    'item_alpha': 0.01\n",
    "}"
   ]
  },
  {
   "cell_type": "code",
   "execution_count": null,
   "metadata": {
    "tags": []
   },
   "outputs": [
    {
     "name": "stdout",
     "output_type": "stream",
     "text": [
      "0:\t0.02194851264357567 +/- 0.00025050841951650366\n",
      "1:\t0.024220090359449387 +/- 0.0002659781946966547\n",
      "2:\t0.02695455774664879 +/- 0.0002812117475619147\n",
      "3:\t0.02931598387658596 +/- 0.00029397614033479873\n",
      "4:\t0.03168954700231552 +/- 0.00030306040667067377\n",
      "5:\t0.033924736082553864 +/- 0.00031288401928171894\n",
      "6:\t0.03624219074845314 +/- 0.00032250635387553805\n",
      "7:\t0.03817939758300781 +/- 0.00033021639092358\n",
      "8:\t0.039877403527498245 +/- 0.0003365679790623114\n",
      "9:\t0.04136764630675316 +/- 0.0003425606275641644\n",
      "10:\t0.04275971278548241 +/- 0.0003478615268244448\n",
      "11:\t0.044085435569286346 +/- 0.00035301340813186706\n",
      "12:\t0.04539484530687332 +/- 0.00035804751947921725\n",
      "13:\t0.04646998643875122 +/- 0.00036233534687147044\n",
      "14:\t0.04771268740296364 +/- 0.00036734486357481715\n",
      "15:\t0.0488833524286747 +/- 0.00037159558575270666\n",
      "16:\t0.050102923065423965 +/- 0.00037612097181623027\n",
      "17:\t0.0511932335793972 +/- 0.0003807042761338984\n",
      "18:\t0.05234569311141968 +/- 0.00038530734146611275\n",
      "19:\t0.05339125916361809 +/- 0.0003890886613574667\n",
      "20:\t0.05456231161952019 +/- 0.0003935431636666543\n",
      "21:\t0.0556192509829998 +/- 0.0003973769995204064\n",
      "22:\t0.05669968202710152 +/- 0.0004011595989019108\n",
      "23:\t0.05770810320973396 +/- 0.000404964063348431\n",
      "24:\t0.058712344616651535 +/- 0.00040819659569769136\n",
      "25:\t0.059706732630729675 +/- 0.0004118302908587956\n",
      "26:\t0.06070148944854736 +/- 0.0004154797095321934\n",
      "27:\t0.061684500426054 +/- 0.000418796261734668\n",
      "28:\t0.06261369585990906 +/- 0.00042219592393069415\n",
      "29:\t0.06354324519634247 +/- 0.00042512589950904016\n",
      "30:\t0.0644913837313652 +/- 0.00042833514513756203\n",
      "31:\t0.06537733227014542 +/- 0.00043125755750746304\n",
      "32:\t0.06630615890026093 +/- 0.00043446148614358185\n",
      "33:\t0.06718073040246964 +/- 0.0004375987959925329\n",
      "34:\t0.06805911660194397 +/- 0.00044015473395022503\n",
      "35:\t0.0688885971903801 +/- 0.00044294535883462774\n",
      "36:\t0.06969644129276276 +/- 0.0004454150591561782\n",
      "37:\t0.07048878073692322 +/- 0.00044781091867948945\n",
      "38:\t0.07127883285284042 +/- 0.00045035556869074304\n",
      "39:\t0.0720677450299263 +/- 0.0004528910063729132\n",
      "40:\t0.07279372215270996 +/- 0.000455140008860065\n",
      "41:\t0.07348975539207458 +/- 0.00045722307569125815\n",
      "42:\t0.07423771172761917 +/- 0.0004596332655042546\n",
      "43:\t0.07494210451841354 +/- 0.00046177496141745365\n",
      "44:\t0.07561575621366501 +/- 0.0004634442980002139\n",
      "45:\t0.07630154490470886 +/- 0.0004653209119873502\n",
      "46:\t0.07700061798095703 +/- 0.00046734259172443517\n",
      "47:\t0.07767996937036514 +/- 0.0004693397052506312\n",
      "48:\t0.07832521200180054 +/- 0.00047099704305909147\n",
      "49:\t0.07896285504102707 +/- 0.0004729204863857349\n",
      "50:\t0.07960163801908493 +/- 0.0004745213560288878\n",
      "51:\t0.0801960676908493 +/- 0.00047625091394806345\n",
      "52:\t0.08081477135419846 +/- 0.0004778955990205913\n",
      "53:\t0.08140957355499268 +/- 0.0004794560083418749\n",
      "54:\t0.08199262619018555 +/- 0.00048101084477272533\n",
      "55:\t0.08256585896015167 +/- 0.00048245371159885247\n",
      "56:\t0.0831110030412674 +/- 0.00048384647927731013\n",
      "57:\t0.08365046232938766 +/- 0.00048536401146199575\n",
      "58:\t0.08417778462171555 +/- 0.0004868838751620667\n",
      "59:\t0.08468654006719589 +/- 0.0004884495730426389\n",
      "60:\t0.08520780503749847 +/- 0.0004897381049235049\n",
      "61:\t0.08568357676267624 +/- 0.0004908812298570487\n",
      "62:\t0.08616466075181961 +/- 0.0004922673441867239\n",
      "63:\t0.08664422482252121 +/- 0.0004932953150067255\n",
      "64:\t0.08712529391050339 +/- 0.000494562806382895\n",
      "65:\t0.087603360414505 +/- 0.0004957256070316416\n",
      "66:\t0.08806737512350082 +/- 0.000496902453638929\n",
      "67:\t0.08849084377288818 +/- 0.0004979673306414929\n",
      "68:\t0.0888771340250969 +/- 0.000498936331182115\n",
      "69:\t0.08935555815696716 +/- 0.000500067457341359\n",
      "70:\t0.08976877480745316 +/- 0.0005009000926650556\n",
      "71:\t0.09016304463148117 +/- 0.0005018155820842737\n",
      "72:\t0.09053798764944077 +/- 0.0005029990820403434\n",
      "73:\t0.09098873287439346 +/- 0.0005040367201192596\n",
      "74:\t0.09138110280036926 +/- 0.0005048737341425823\n",
      "75:\t0.09182050824165344 +/- 0.000505839265843241\n",
      "76:\t0.0921836644411087 +/- 0.0005066295926926287\n",
      "77:\t0.09257033467292786 +/- 0.0005075406465459919\n",
      "78:\t0.09296272695064545 +/- 0.0005085234655802391\n",
      "79:\t0.09334143996238708 +/- 0.0005091689541445937\n",
      "80:\t0.0937235951423645 +/- 0.0005099731563538354\n",
      "81:\t0.09402532875537872 +/- 0.0005107506883017184\n",
      "82:\t0.0943460613489151 +/- 0.0005116408153828428\n",
      "83:\t0.0946974977850914 +/- 0.0005125166690405108\n",
      "84:\t0.09499813616275787 +/- 0.0005132468882859409\n",
      "85:\t0.095321886241436 +/- 0.0005138997694600538\n",
      "86:\t0.09563995152711868 +/- 0.0005144961256026303\n",
      "87:\t0.09593982249498367 +/- 0.0005154329967239184\n",
      "88:\t0.09625978022813797 +/- 0.000516127617710051\n",
      "89:\t0.09654031693935394 +/- 0.0005169160679738847\n",
      "90:\t0.0968799814581871 +/- 0.0005178044322019129\n",
      "91:\t0.09716999530792236 +/- 0.0005184909781835404\n",
      "92:\t0.097423255443573 +/- 0.0005189902068071391\n",
      "93:\t0.09776178747415543 +/- 0.0005198160750495954\n",
      "94:\t0.09801728278398514 +/- 0.0005203493096780821\n",
      "95:\t0.09826106578111649 +/- 0.0005209563566716937\n",
      "96:\t0.09856776148080826 +/- 0.0005214259579900305\n",
      "97:\t0.09882175177335739 +/- 0.0005219389482410253\n",
      "98:\t0.09911403805017471 +/- 0.0005226435208172172\n",
      "99:\t0.09939191490411758 +/- 0.0005232515914029492\n",
      "100:\t0.09964894503355026 +/- 0.0005238265089772267\n",
      "101:\t0.09993897378444672 +/- 0.000524261763093302\n",
      "102:\t0.10020094364881516 +/- 0.000524881718720876\n",
      "103:\t0.10048145055770874 +/- 0.0005255665018494074\n",
      "104:\t0.10069261491298676 +/- 0.0005260288242904436\n",
      "105:\t0.10096520185470581 +/- 0.0005264385454697383\n",
      "106:\t0.10118015855550766 +/- 0.0005269505121286128\n",
      "107:\t0.1014542505145073 +/- 0.0005276614537224426\n",
      "108:\t0.10165896266698837 +/- 0.0005279967938743235\n",
      "109:\t0.10187579691410065 +/- 0.0005284555337429384\n",
      "110:\t0.10208393633365631 +/- 0.0005289949667903762\n",
      "111:\t0.10228751599788666 +/- 0.000529487200867819\n",
      "112:\t0.10247629880905151 +/- 0.0005297864878305712\n",
      "113:\t0.10269086807966232 +/- 0.0005301379779914622\n",
      "114:\t0.10289520025253296 +/- 0.000530707777605138\n",
      "115:\t0.10305292904376984 +/- 0.0005310360663446339\n",
      "116:\t0.10328947752714157 +/- 0.0005315298358102574\n",
      "117:\t0.10351768136024475 +/- 0.0005320173499907007\n",
      "118:\t0.10368071496486664 +/- 0.000532417290178623\n",
      "119:\t0.10389982908964157 +/- 0.0005327968153903666\n",
      "120:\t0.10406246781349182 +/- 0.0005331722462336288\n",
      "121:\t0.10430130362510681 +/- 0.0005339241883785024\n",
      "122:\t0.10449046641588211 +/- 0.0005344457085638337\n",
      "123:\t0.10464248806238174 +/- 0.0005346524741721496\n",
      "124:\t0.10483887046575546 +/- 0.0005349935009469214\n",
      "125:\t0.10503029823303223 +/- 0.0005353139421468279\n",
      "126:\t0.10519446432590485 +/- 0.000535591733675052\n",
      "127:\t0.10539234429597855 +/- 0.000536068102074629\n",
      "128:\t0.10554399341344833 +/- 0.0005363792740792232\n",
      "129:\t0.10572785884141922 +/- 0.0005367035253164666\n",
      "130:\t0.10593332350254059 +/- 0.0005370761697145122\n",
      "131:\t0.10609101504087448 +/- 0.0005374975484707334\n",
      "132:\t0.10623203963041306 +/- 0.0005378580234957923\n",
      "133:\t0.10641858726739883 +/- 0.0005382375487075361\n",
      "134:\t0.10655997693538666 +/- 0.0005383917130541104\n",
      "135:\t0.10673893243074417 +/- 0.0005386209408228456\n",
      "136:\t0.10686706751585007 +/- 0.00053881161328838\n",
      "137:\t0.10700542479753494 +/- 0.0005391693018682223\n",
      "138:\t0.10721582919359207 +/- 0.0005396565317175212\n",
      "139:\t0.1073451042175293 +/- 0.0005399466632174187\n",
      "140:\t0.10750319808721542 +/- 0.0005402732459700474\n",
      "141:\t0.1076354905962944 +/- 0.0005406012503783988\n",
      "142:\t0.10777236521244049 +/- 0.0005408665313362627\n",
      "143:\t0.10793424397706985 +/- 0.0005413265791281426\n",
      "144:\t0.10807184875011444 +/- 0.0005415503477389025\n",
      "145:\t0.10821933299303055 +/- 0.0005417744575470359\n",
      "146:\t0.10839218646287918 +/- 0.0005420496332287303\n",
      "147:\t0.10849832743406296 +/- 0.0005420866531437505\n",
      "148:\t0.10860523581504822 +/- 0.0005424582170834468\n",
      "149:\t0.1087159514427185 +/- 0.000542787586281292\n",
      "150:\t0.10885243117809296 +/- 0.0005430412096622295\n",
      "151:\t0.10900254547595978 +/- 0.0005433934959503254\n",
      "152:\t0.10913977026939392 +/- 0.0005436983558035106\n",
      "153:\t0.10926339030265808 +/- 0.0005439887147683238\n",
      "154:\t0.10941158980131149 +/- 0.0005441825148764482\n",
      "155:\t0.1095329001545906 +/- 0.0005444419386127345\n",
      "156:\t0.10967278480529785 +/- 0.0005445900182728155\n",
      "157:\t0.10979372262954712 +/- 0.0005447892206726865\n",
      "158:\t0.10992452502250671 +/- 0.0005450732674860907\n",
      "159:\t0.11000490188598633 +/- 0.0005451846115622958\n",
      "160:\t0.11013873666524887 +/- 0.0005453151195576437\n",
      "161:\t0.1102653369307518 +/- 0.0005456167380357811\n",
      "162:\t0.11034193634986877 +/- 0.0005458931079082824\n",
      "163:\t0.11048104614019394 +/- 0.000546261373606702\n",
      "164:\t0.11057240515947342 +/- 0.0005463080607806368\n",
      "165:\t0.1106630191206932 +/- 0.0005465860797737767\n",
      "166:\t0.11077295988798141 +/- 0.0005469776606260492\n",
      "167:\t0.11090034991502762 +/- 0.0005470196279029846\n",
      "168:\t0.11099851131439209 +/- 0.0005472075139233025\n",
      "169:\t0.11111830919981003 +/- 0.0005475505310160861\n",
      "170:\t0.11121536046266556 +/- 0.000547763608775811\n",
      "171:\t0.11131809651851654 +/- 0.0005478371936760201\n",
      "172:\t0.1113927885890007 +/- 0.0005480166066282304\n",
      "173:\t0.11149248480796814 +/- 0.000548125903520195\n",
      "174:\t0.11159029603004456 +/- 0.0005483204997555241\n",
      "175:\t0.11170971393585205 +/- 0.0005484773936810861\n",
      "176:\t0.11183443665504456 +/- 0.0005486240516854444\n",
      "177:\t0.11192087829113007 +/- 0.0005488071040763049\n",
      "178:\t0.11202361434698105 +/- 0.0005490213760268369\n",
      "179:\t0.11212938278913498 +/- 0.0005492795487060871\n",
      "180:\t0.11221810430288315 +/- 0.0005493745721745953\n",
      "181:\t0.11230149865150452 +/- 0.0005495604678769013\n",
      "182:\t0.11240611225366592 +/- 0.0005496448004943745\n",
      "183:\t0.11248990893363953 +/- 0.0005498275685540904\n",
      "184:\t0.11257709562778473 +/- 0.0005499422677378013\n",
      "185:\t0.11265973746776581 +/- 0.0005501122977622416\n",
      "186:\t0.1127878874540329 +/- 0.0005502357543452046\n",
      "187:\t0.11286292970180511 +/- 0.0005504420081574602\n",
      "188:\t0.11295051872730255 +/- 0.0005504858520199497\n",
      "189:\t0.11303240805864334 +/- 0.0005507124070759261\n",
      "190:\t0.11311543732881546 +/- 0.0005508135152309276\n",
      "191:\t0.11321285367012024 +/- 0.0005509194001491576\n",
      "192:\t0.11328640580177307 +/- 0.000551036999510543\n",
      "193:\t0.11334098875522614 +/- 0.0005511670525760596\n",
      "194:\t0.11341340839862823 +/- 0.0005513502755656068\n",
      "195:\t0.11347556859254837 +/- 0.0005515444168711046\n",
      "196:\t0.11356731504201889 +/- 0.0005517228630974235\n",
      "197:\t0.113627590239048 +/- 0.0005518558163406145\n",
      "198:\t0.11370455473661423 +/- 0.0005519625542522781\n",
      "199:\t0.11379364132881165 +/- 0.0005520537676834493\n",
      "200:\t0.11388956010341644 +/- 0.0005522023022733616\n",
      "201:\t0.1139737144112587 +/- 0.0005523573196133697\n",
      "202:\t0.1140313372015953 +/- 0.0005524380127921926\n",
      "203:\t0.11409768462181091 +/- 0.0005525877984391409\n",
      "204:\t0.11416099965572357 +/- 0.0005527684624483871\n",
      "205:\t0.11422201991081238 +/- 0.0005527641974812188\n",
      "206:\t0.1142788976430893 +/- 0.0005528127612407078\n",
      "207:\t0.11433195322751999 +/- 0.0005529814264756541\n",
      "208:\t0.1143888384103775 +/- 0.0005528311858988746\n",
      "209:\t0.11448399722576141 +/- 0.0005529781851006063\n",
      "210:\t0.11455219984054565 +/- 0.0005532276003806045\n",
      "211:\t0.11461591720581055 +/- 0.0005534316364099327\n",
      "212:\t0.11468188464641571 +/- 0.000553513978709394\n",
      "213:\t0.1147489845752716 +/- 0.0005536190675004192\n",
      "214:\t0.11481798440217972 +/- 0.0005537409318289729\n",
      "215:\t0.1148892417550087 +/- 0.0005538506267845397\n",
      "216:\t0.11494801193475723 +/- 0.0005538809364845486\n",
      "217:\t0.1150078997015953 +/- 0.0005539490053605536\n",
      "218:\t0.115075021982193 +/- 0.0005541990461690698\n",
      "219:\t0.11512240767478943 +/- 0.0005544127494573125\n",
      "220:\t0.1151876226067543 +/- 0.0005545222169479639\n",
      "221:\t0.11522400379180908 +/- 0.0005545953469183419\n",
      "222:\t0.11526379734277725 +/- 0.0005547471797495309\n",
      "223:\t0.11533886194229126 +/- 0.0005548711481285541\n",
      "224:\t0.11539306491613388 +/- 0.0005549135703353207\n",
      "225:\t0.11543970555067062 +/- 0.0005551070861123007\n",
      "226:\t0.1154996007680893 +/- 0.0005552637525729471\n",
      "227:\t0.1155451089143753 +/- 0.0005552670508142238\n",
      "228:\t0.1156296357512474 +/- 0.0005554963923154169\n",
      "229:\t0.11566375941038132 +/- 0.0005555620728098076\n",
      "230:\t0.11571038514375687 +/- 0.000555669549982447\n",
      "231:\t0.11576422303915024 +/- 0.000555606542200815\n",
      "232:\t0.11579719930887222 +/- 0.0005557295438539467\n",
      "233:\t0.11587300151586533 +/- 0.0005558034130853006\n",
      "234:\t0.11590789258480072 +/- 0.0005558643168164629\n",
      "235:\t0.11596325784921646 +/- 0.0005560319584592888\n",
      "236:\t0.11600001901388168 +/- 0.0005560428767752395\n",
      "237:\t0.11606863141059875 +/- 0.0005562567506621691\n",
      "238:\t0.11612057685852051 +/- 0.0005564586826410277\n",
      "239:\t0.11616834253072739 +/- 0.0005566001089523262\n",
      "240:\t0.11621154844760895 +/- 0.0005566939950962562\n",
      "241:\t0.11623960733413696 +/- 0.0005568099453370031\n",
      "242:\t0.11632415652275085 +/- 0.0005569063904612341\n",
      "243:\t0.11635410040616989 +/- 0.0005569396572051463\n",
      "244:\t0.11640565097332001 +/- 0.0005571574548618707\n",
      "245:\t0.11644205451011658 +/- 0.0005570822208410231\n",
      "246:\t0.11647921055555344 +/- 0.0005571336847781864\n",
      "247:\t0.1165224090218544 +/- 0.0005571953277703246\n",
      "248:\t0.11657661199569702 +/- 0.0005573774703015225\n",
      "249:\t0.11657321453094482 +/- 0.0005572972320525308\n",
      "250:\t0.11659559607505798 +/- 0.0005572969477213863\n",
      "251:\t0.11663652956485748 +/- 0.0005573495489831278\n",
      "252:\t0.11665927618741989 +/- 0.0005574059602822063\n",
      "253:\t0.11668012291193008 +/- 0.0005573062737829275\n",
      "254:\t0.11673736572265625 +/- 0.000557396691086894\n",
      "255:\t0.11677224934101105 +/- 0.0005575181004856163\n",
      "256:\t0.11683973670005798 +/- 0.0005575181573518452\n",
      "257:\t0.11685109883546829 +/- 0.0005575141198495927\n",
      "258:\t0.11691213399171829 +/- 0.0005577857698250945\n",
      "259:\t0.11695381999015808 +/- 0.0005578247800581267\n",
      "260:\t0.11702244728803635 +/- 0.0005579274236013087\n",
      "261:\t0.11705013364553452 +/- 0.0005580560550111025\n",
      "262:\t0.11710017174482346 +/- 0.000558103026516182\n",
      "263:\t0.11713012307882309 +/- 0.0005581594378152605\n",
      "264:\t0.1171782910823822 +/- 0.0005582134607327248\n",
      "265:\t0.1171843484044075 +/- 0.0005583008072603302\n",
      "266:\t0.11725521832704544 +/- 0.0005583169572693405\n",
      "267:\t0.11727038770914078 +/- 0.0005584168712335349\n",
      "268:\t0.11732914298772812 +/- 0.0005585707512489647\n",
      "269:\t0.11736743897199631 +/- 0.0005587486856792233\n",
      "270:\t0.1173795834183693 +/- 0.0005586779440904596\n",
      "271:\t0.1173969954252243 +/- 0.0005587757540041844\n",
      "272:\t0.11741291731595993 +/- 0.0005587457855015489\n",
      "273:\t0.1174553781747818 +/- 0.000558988376834078\n",
      "274:\t0.11750352382659912 +/- 0.0005590528062714327\n",
      "275:\t0.1175243929028511 +/- 0.0005590023090601608\n",
      "276:\t0.1175122782588005 +/- 0.0005589160429909047\n",
      "277:\t0.11758770793676376 +/- 0.0005592216989712946\n",
      "278:\t0.11760513484477997 +/- 0.0005592640643118324\n",
      "279:\t0.11765478551387787 +/- 0.0005592772572769395\n",
      "280:\t0.11770370602607727 +/- 0.0005594349473297061\n",
      "281:\t0.11772190034389496 +/- 0.0005594788480584246\n",
      "282:\t0.11774729937314987 +/- 0.0005594755498171478\n",
      "283:\t0.11781097948551178 +/- 0.0005596532567824907\n",
      "284:\t0.11783865839242935 +/- 0.000559653768578551\n",
      "285:\t0.11786255240440369 +/- 0.0005597348598209762\n",
      "286:\t0.1179368644952774 +/- 0.0005598196473682808\n",
      "287:\t0.11796869337558746 +/- 0.0005599349152142808\n",
      "288:\t0.11799181997776031 +/- 0.0005601296251820678\n",
      "289:\t0.11804680526256561 +/- 0.000560154646322788\n",
      "290:\t0.11804300546646118 +/- 0.0005602234544597689\n",
      "291:\t0.11809568852186203 +/- 0.0005602504090522721\n",
      "292:\t0.11810670793056488 +/- 0.0005603453187883224\n",
      "293:\t0.11812905967235565 +/- 0.0005602318137954186\n",
      "294:\t0.11815597862005234 +/- 0.0005602924900616653\n",
      "295:\t0.11816582083702087 +/- 0.0005603893332494986\n",
      "296:\t0.1181991845369339 +/- 0.0005604790681587182\n",
      "297:\t0.1182226613163948 +/- 0.0005604895315448376\n",
      "298:\t0.1182280108332634 +/- 0.0005604643398054305\n",
      "299:\t0.11825641989707947 +/- 0.000560570565921034\n",
      "300:\t0.11828448623418808 +/- 0.000560700960183924\n",
      "301:\t0.11831292510032654 +/- 0.000560704770221261\n",
      "302:\t0.11836183071136475 +/- 0.0005606563201942299\n",
      "303:\t0.11839064955711365 +/- 0.000560866099712678\n",
      "304:\t0.1184198185801506 +/- 0.0005608013859441786\n",
      "305:\t0.11841300874948502 +/- 0.0005607288815023188\n",
      "306:\t0.11845963448286057 +/- 0.0005609177911147569\n",
      "307:\t0.11850056052207947 +/- 0.0005610142362389879\n",
      "308:\t0.11854075640439987 +/- 0.0005609929114031467\n",
      "309:\t0.11857372522354126 +/- 0.0005612304416413026\n",
      "310:\t0.11861089617013931 +/- 0.0005612921414996697\n",
      "311:\t0.11861242353916168 +/- 0.0005612038851124018\n",
      "312:\t0.11861656606197357 +/- 0.000561246648516542\n",
      "313:\t0.11864237487316132 +/- 0.0005613885866239007\n",
      "314:\t0.118658646941185 +/- 0.0005612386303782658\n",
      "315:\t0.11871058493852615 +/- 0.0005614372072496186\n",
      "316:\t0.11870983988046646 +/- 0.0005614907183710227\n",
      "317:\t0.11872804164886475 +/- 0.0005613883591589851\n",
      "318:\t0.11873447149991989 +/- 0.0005614319186903299\n",
      "319:\t0.11876329779624939 +/- 0.000561516308174032\n",
      "320:\t0.11878225207328796 +/- 0.0005617233581134924\n",
      "321:\t0.11878717690706253 +/- 0.0005616054175547336\n",
      "322:\t0.11880802363157272 +/- 0.0005615387703344514\n",
      "323:\t0.1188417598605156 +/- 0.0005617281917429498\n",
      "324:\t0.11884896457195282 +/- 0.000561701635214049\n",
      "325:\t0.11887966096401215 +/- 0.0005617588426403322\n",
      "326:\t0.1189047172665596 +/- 0.0005617102220146144\n",
      "327:\t0.11893237382173538 +/- 0.0005618769537977777\n",
      "328:\t0.11893539875745773 +/- 0.0005619039652565099\n",
      "329:\t0.11893048882484436 +/- 0.0005617712394782345\n",
      "330:\t0.11896119266748428 +/- 0.0005618431752578054\n",
      "331:\t0.11895400285720825 +/- 0.0005618186659131452\n",
      "332:\t0.11901350319385529 +/- 0.0005617623683465246\n",
      "333:\t0.1190328523516655 +/- 0.000561865409953309\n",
      "334:\t0.11901161819696426 +/- 0.0005617657803202591\n",
      "335:\t0.11905065923929214 +/- 0.000561843345856492\n",
      "336:\t0.11906658113002777 +/- 0.0005618884976422464\n",
      "337:\t0.11909085512161255 +/- 0.0005619816445252006\n",
      "338:\t0.11910144984722137 +/- 0.0005619921079113199\n"
     ]
    }
   ],
   "source": [
    "model, precisions_at = fit_model(\n",
    "    epochs=400,\n",
    "    at=10,\n",
    "    no_components=best_params[\"no_components\"], \n",
    "    learning_rate=best_params[\"learning_rate\"], \n",
    "    max_sampled=best_params[\"max_sampled\"],\n",
    "    user_alpha=best_params[\"user_alpha\"],\n",
    "    item_alpha=best_params[\"item_alpha\"],\n",
    "    verbose=True,\n",
    ")"
   ]
  },
  {
   "cell_type": "code",
   "execution_count": 15,
   "metadata": {},
   "outputs": [
    {
     "data": {
      "image/png": "[encoded data removed]",
      "text/plain": [
       "<Figure size 432x288 with 1 Axes>"
      ]
     },
     "metadata": {
      "needs_background": "light"
     },
     "output_type": "display_data"
    }
   ],
   "source": [
    "figure, ax = pl.subplots()\n",
    "\n",
    "ax.plot(np.arange(len(precisions_at)), precisions_at)\n",
    "\n",
    "pass"
   ]
  },
  {
   "cell_type": "markdown",
   "metadata": {},
   "source": [
    "## Save track embeddings for the simulator"
   ]
  },
  {
   "cell_type": "code",
   "execution_count": 17,
   "metadata": {},
   "outputs": [],
   "source": [
    "biases, embeddings = model.get_item_representations()"
   ]
  },
  {
   "cell_type": "code",
   "execution_count": 18,
   "metadata": {},
   "outputs": [
    {
     "name": "stdout",
     "output_type": "stream",
     "text": [
      "warning: Embedding dir exists, did you set global_step for add_embedding()?\n"
     ]
    }
   ],
   "source": [
    "columns = [\"artist\", \"title\", \"track\", \"genre\"]\n",
    "\n",
    "writer = tb.SummaryWriter(comment='msd_ligtfm_embeddings', log_dir=DATA_DIR + \"tb\")\n",
    "writer.add_embedding(\n",
    "    embeddings, \n",
    "    metadata=list(top_songs_meta[columns].sort_values(\"track\").itertuples(index=False, name=None)), \n",
    "    tag=\"msd\", \n",
    "    metadata_header=columns\n",
    ")\n",
    "writer.close()"
   ]
  },
  {
   "cell_type": "code",
   "execution_count": 19,
   "metadata": {},
   "outputs": [],
   "source": [
    "np.save(DATA_DIR + \"processed/tracks\", embeddings)"
   ]
  },
  {
   "cell_type": "markdown",
   "metadata": {},
   "source": [
    "## Sample and save user tastes"
   ]
  },
  {
   "cell_type": "code",
   "execution_count": 20,
   "metadata": {},
   "outputs": [],
   "source": [
    "track_freq = top_songs_meta[[\"track\", \"pop\"]].copy().set_index(\"track\")"
   ]
  },
  {
   "cell_type": "code",
   "execution_count": 21,
   "metadata": {},
   "outputs": [
    {
     "name": "stderr",
     "output_type": "stream",
     "text": [
      "100%|██████████| 10000/10000 [00:40<00:00, 245.51it/s]\n"
     ]
    }
   ],
   "source": [
    "num_users = 10_000\n",
    "num_interests = 3\n",
    "\n",
    "users = []\n",
    "for j in tqdm.trange(num_users):\n",
    "    interests = track_freq.sample(n=num_interests, weights=\"pop\").index.values.tolist()\n",
    "    \n",
    "    consume_bias = np.random.uniform(0, 10)\n",
    "    consume_sharpness = np.power(np.random.uniform(1, 2), np.random.choice([1, -1]))\n",
    "    \n",
    "    users.append({\n",
    "        \"user\": j,\n",
    "        \"interests\": interests,\n",
    "        \"consume_bias\": consume_bias,\n",
    "        \"consume_sharpness\": consume_sharpness\n",
    "    })"
   ]
  },
  {
   "cell_type": "code",
   "execution_count": 22,
   "metadata": {},
   "outputs": [],
   "source": [
    "with open(DATA_DIR + \"processed/users.json\", \"w\") as users_file:\n",
    "    for user in users:\n",
    "        users_file.write(json.dumps(user) + \"\\n\")"
   ]
  },
  {
   "cell_type": "markdown",
   "metadata": {},
   "source": [
    "## Visualize embeddings distribution"
   ]
  },
  {
   "cell_type": "code",
   "execution_count": 23,
   "metadata": {},
   "outputs": [],
   "source": [
    "n = 30\n",
    "sample_tracks = np.random.choice(np.arange(embeddings.shape[0]), n)"
   ]
  },
  {
   "cell_type": "code",
   "execution_count": 24,
   "metadata": {},
   "outputs": [
    {
     "data": {
      "image/png": "[encoded data removed]",
      "text/plain": [
       "<Figure size 1440x360 with 1 Axes>"
      ]
     },
     "metadata": {
      "needs_background": "light"
     },
     "output_type": "display_data"
    }
   ],
   "source": [
    "dots = np.dot(embeddings[sample_tracks], embeddings.T)\n",
    "\n",
    "x = np.arange(embeddings.shape[0])\n",
    "\n",
    "fig, ax = pl.subplots(figsize=(20, 5))\n",
    "\n",
    "for j in range(n):\n",
    "    y = np.sort(dots[j])\n",
    "    ax.plot(x, y)\n",
    "    \n",
    "ax.grid()\n",
    "\n",
    "pass"
   ]
  },
  {
   "cell_type": "code",
   "execution_count": null,
   "metadata": {},
   "outputs": [],
   "source": []
  }
 ],
 "metadata": {
  "kernelspec": {
   "display_name": "Python 3",
   "language": "python",
   "name": "python3"
  },
  "language_info": {
   "codemirror_mode": {
    "name": "ipython",
    "version": 3
   },
   "file_extension": ".py",
   "mimetype": "text/x-python",
   "name": "python",
   "nbconvert_exporter": "python",
   "pygments_lexer": "ipython3",
   "version": "3.6.12"
  }
 },
 "nbformat": 4,
 "nbformat_minor": 4
}
