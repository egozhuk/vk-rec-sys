{
 "cells": [
  {
   "cell_type": "code",
   "execution_count": 1,
   "metadata": {},
   "outputs": [
    {
     "name": "stderr",
     "output_type": "stream",
     "text": [
      "/Users/n.anokhin/Projects/virtualenv/recsys-course/lib/python3.8/site-packages/lightfm/_lightfm_fast.py:9: UserWarning: LightFM was compiled without OpenMP support. Only a single thread will be used.\n",
      "  warnings.warn(\n"
     ]
    }
   ],
   "source": [
    "import pandas as pd\n",
    "import numpy as np\n",
    "import scipy.stats as ss\n",
    "\n",
    "import lightfm\n",
    "import lightfm.data as ld\n",
    "import lightfm.evaluation as lv\n",
    "\n",
    "import glob\n",
    "import tqdm\n",
    "import json\n",
    "import optuna\n",
    "\n",
    "import tensorboardX as tb\n",
    "\n",
    "import matplotlib.pyplot as pl\n",
    "import seaborn as sns\n",
    "\n",
    "np.random.seed(31337)"
   ]
  },
  {
   "cell_type": "code",
   "execution_count": 2,
   "metadata": {},
   "outputs": [],
   "source": [
    "DATA_DIR = \"/Users/n.anokhin/Desktop/\""
   ]
  },
  {
   "cell_type": "code",
   "execution_count": 3,
   "metadata": {},
   "outputs": [
    {
     "data": {
      "text/html": [
       "<div>\n",
       "<style scoped>\n",
       "    .dataframe tbody tr th:only-of-type {\n",
       "        vertical-align: middle;\n",
       "    }\n",
       "\n",
       "    .dataframe tbody tr th {\n",
       "        vertical-align: top;\n",
       "    }\n",
       "\n",
       "    .dataframe thead th {\n",
       "        text-align: right;\n",
       "    }\n",
       "</style>\n",
       "<table border=\"1\" class=\"dataframe\">\n",
       "  <thead>\n",
       "    <tr style=\"text-align: right;\">\n",
       "      <th></th>\n",
       "      <th>message</th>\n",
       "      <th>timestamp</th>\n",
       "      <th>user</th>\n",
       "      <th>track</th>\n",
       "      <th>time</th>\n",
       "      <th>latency</th>\n",
       "      <th>recommendation</th>\n",
       "      <th>experiments</th>\n",
       "      <th>rnd</th>\n",
       "    </tr>\n",
       "  </thead>\n",
       "  <tbody>\n",
       "    <tr>\n",
       "      <th>0</th>\n",
       "      <td>next</td>\n",
       "      <td>2024-03-04 09:06:00.999</td>\n",
       "      <td>2620</td>\n",
       "      <td>32065</td>\n",
       "      <td>0.00</td>\n",
       "      <td>0.001914</td>\n",
       "      <td>32069.0</td>\n",
       "      <td>{}</td>\n",
       "      <td>0.721852</td>\n",
       "    </tr>\n",
       "    <tr>\n",
       "      <th>1</th>\n",
       "      <td>next</td>\n",
       "      <td>2024-03-04 09:06:01.057</td>\n",
       "      <td>5687</td>\n",
       "      <td>32024</td>\n",
       "      <td>0.80</td>\n",
       "      <td>0.001389</td>\n",
       "      <td>37337.0</td>\n",
       "      <td>{}</td>\n",
       "      <td>0.966441</td>\n",
       "    </tr>\n",
       "    <tr>\n",
       "      <th>2</th>\n",
       "      <td>next</td>\n",
       "      <td>2024-03-04 09:06:01.078</td>\n",
       "      <td>7957</td>\n",
       "      <td>14080</td>\n",
       "      <td>0.80</td>\n",
       "      <td>0.001621</td>\n",
       "      <td>5540.0</td>\n",
       "      <td>{}</td>\n",
       "      <td>0.289049</td>\n",
       "    </tr>\n",
       "    <tr>\n",
       "      <th>3</th>\n",
       "      <td>next</td>\n",
       "      <td>2024-03-04 09:06:01.092</td>\n",
       "      <td>7957</td>\n",
       "      <td>10027</td>\n",
       "      <td>0.41</td>\n",
       "      <td>0.000477</td>\n",
       "      <td>492.0</td>\n",
       "      <td>{}</td>\n",
       "      <td>0.171346</td>\n",
       "    </tr>\n",
       "    <tr>\n",
       "      <th>4</th>\n",
       "      <td>last</td>\n",
       "      <td>2024-03-04 09:06:01.111</td>\n",
       "      <td>7957</td>\n",
       "      <td>14271</td>\n",
       "      <td>0.01</td>\n",
       "      <td>0.000207</td>\n",
       "      <td>NaN</td>\n",
       "      <td>{}</td>\n",
       "      <td>0.371618</td>\n",
       "    </tr>\n",
       "  </tbody>\n",
       "</table>\n",
       "</div>"
      ],
      "text/plain": [
       "  message               timestamp  user  track  time   latency  \\\n",
       "0    next 2024-03-04 09:06:00.999  2620  32065  0.00  0.001914   \n",
       "1    next 2024-03-04 09:06:01.057  5687  32024  0.80  0.001389   \n",
       "2    next 2024-03-04 09:06:01.078  7957  14080  0.80  0.001621   \n",
       "3    next 2024-03-04 09:06:01.092  7957  10027  0.41  0.000477   \n",
       "4    last 2024-03-04 09:06:01.111  7957  14271  0.01  0.000207   \n",
       "\n",
       "   recommendation experiments       rnd  \n",
       "0         32069.0          {}  0.721852  \n",
       "1         37337.0          {}  0.966441  \n",
       "2          5540.0          {}  0.289049  \n",
       "3           492.0          {}  0.171346  \n",
       "4             NaN          {}  0.371618  "
      ]
     },
     "execution_count": 3,
     "metadata": {},
     "output_type": "execute_result"
    }
   ],
   "source": [
    "data = pd.concat([\n",
    "    pd.read_json(data_path, lines=True) \n",
    "    for data_path \n",
    "    in glob.glob(DATA_DIR + \"/data/*/data.json\")\n",
    "])\n",
    "data[\"rnd\"] = np.random.random(len(data))\n",
    "\n",
    "data.head(5)"
   ]
  },
  {
   "cell_type": "code",
   "execution_count": 4,
   "metadata": {},
   "outputs": [],
   "source": [
    "positives = data[data[\"time\"] > 0.8].copy()\n",
    "positives[\"test\"] = np.random.random(len(positives)) >= 0.7\n",
    "positives.drop_duplicates([\"user\", \"track\"], inplace=True)"
   ]
  },
  {
   "cell_type": "code",
   "execution_count": 5,
   "metadata": {},
   "outputs": [],
   "source": [
    "user_counts = positives[~positives[\"test\"]].groupby(\"user\").size()\n",
    "users = set(user_counts[user_counts >= 5].index.values)"
   ]
  },
  {
   "cell_type": "code",
   "execution_count": 6,
   "metadata": {},
   "outputs": [],
   "source": [
    "track_counts = positives[~positives[\"test\"]].groupby(\"track\").size()\n",
    "tracks = set(track_counts[track_counts >= 5].index.values)"
   ]
  },
  {
   "cell_type": "code",
   "execution_count": 7,
   "metadata": {
    "tags": []
   },
   "outputs": [
    {
     "data": {
      "text/plain": [
       "(9699, 4543)"
      ]
     },
     "execution_count": 7,
     "metadata": {},
     "output_type": "execute_result"
    }
   ],
   "source": [
    "len(users), len(tracks)"
   ]
  },
  {
   "cell_type": "markdown",
   "metadata": {},
   "source": [
    "## Train LightFM"
   ]
  },
  {
   "cell_type": "code",
   "execution_count": 8,
   "metadata": {},
   "outputs": [
    {
     "data": {
      "text/plain": [
       "(71075, 28155)"
      ]
     },
     "execution_count": 8,
     "metadata": {},
     "output_type": "execute_result"
    }
   ],
   "source": [
    "train_data = positives[~positives[\"test\"] & positives[\"user\"].isin(users) & positives[\"track\"].isin(tracks)]\n",
    "test_data = positives[positives[\"test\"] & positives[\"user\"].isin(users) & positives[\"track\"].isin(tracks)]\n",
    "\n",
    "len(train_data), len(test_data)"
   ]
  },
  {
   "cell_type": "code",
   "execution_count": 9,
   "metadata": {},
   "outputs": [],
   "source": [
    "dataset = ld.Dataset()\n",
    "dataset.fit(users, tracks)"
   ]
  },
  {
   "cell_type": "code",
   "execution_count": 10,
   "metadata": {},
   "outputs": [],
   "source": [
    "train_interactions, _ = dataset.build_interactions(train_data[[\"user\", \"track\"]].itertuples(index=False, name=None))\n",
    "test_interactions, _ = dataset.build_interactions(test_data[[\"user\", \"track\"]].itertuples(index=False, name=None))"
   ]
  },
  {
   "cell_type": "code",
   "execution_count": 11,
   "metadata": {},
   "outputs": [],
   "source": [
    "def fit_model(\n",
    "    epochs=1, \n",
    "    at=10,\n",
    "    loss=\"warp\",\n",
    "    no_components=30,\n",
    "    learning_rate=0.01, \n",
    "    max_sampled=10,\n",
    "    user_alpha=0.0, \n",
    "    item_alpha=0.0, \n",
    "    threads=30, \n",
    "    verbose=False,\n",
    "    patience=3,\n",
    "    epsilon=1e-6,\n",
    "):\n",
    "    model = lightfm.LightFM(\n",
    "        no_components=no_components,\n",
    "        loss=loss,\n",
    "        learning_rate=learning_rate,\n",
    "        max_sampled=max_sampled,\n",
    "        user_alpha=user_alpha,\n",
    "        item_alpha=item_alpha,\n",
    "    )\n",
    "\n",
    "    precisions_at = []\n",
    "    \n",
    "    for epoch in range(epochs):\n",
    "        model = model.fit_partial(train_interactions, num_threads=threads)\n",
    "        \n",
    "        precision_at = lv.precision_at_k(model, test_interactions, train_interactions=train_interactions, k=at, num_threads=threads)\n",
    "        \n",
    "        if verbose:\n",
    "            print(f\"{epoch}:\\t{np.mean(precision_at)} +/- {ss.sem(precision_at) * 1.96}\")\n",
    "            \n",
    "        precisions_at.append(np.mean(precision_at))\n",
    "            \n",
    "        if epoch > patience and all([precisions_at[-j] - precisions_at[-patience-1] < epsilon for j in range(1, patience + 1)]):\n",
    "            if verbose:\n",
    "                print(\"Early stopiing!\")\n",
    "            break\n",
    "        \n",
    "    else:\n",
    "        if verbose:\n",
    "            print(\"No early stopiing happened: increase epochs maybe?\")\n",
    "        \n",
    "    return model, precisions_at\n",
    "\n",
    "\n",
    "def objective(trial):\n",
    "    loss = trial.suggest_categorical(\"loss\", [\"warp\", \"bpr\"])\n",
    "    no_components = trial.suggest_categorical(\"no_components\", [10, 30, 50])\n",
    "    learning_rate = trial.suggest_categorical(\"learning_rate\", [0.0001, 0.001, 0.01])\n",
    "    max_sampled = trial.suggest_categorical(\"max_sampled\", [10, 20, 50, 100])\n",
    "    user_alpha = trial.suggest_categorical(\"user_alpha\", [0.0, 0.0001])\n",
    "    item_alpha = trial.suggest_categorical(\"item_alpha\", [0.0, 0.0001])\n",
    "    \n",
    "    model, precisions_at = fit_model(\n",
    "        epochs=5, \n",
    "        at=10,\n",
    "        loss=loss,\n",
    "        no_components=no_components, \n",
    "        learning_rate=learning_rate, \n",
    "        max_sampled=max_sampled, \n",
    "        user_alpha=user_alpha, \n",
    "        item_alpha=item_alpha,\n",
    "    )\n",
    "    \n",
    "    return precisions_at[-1]"
   ]
  },
  {
   "cell_type": "code",
   "execution_count": 12,
   "metadata": {},
   "outputs": [
    {
     "name": "stderr",
     "output_type": "stream",
     "text": [
      "\u001b[32m[I 2024-03-04 15:40:34,391]\u001b[0m A new study created in memory with name: no-name-38e1f7ba-fc85-4939-b249-ae3305c663e1\u001b[0m\n",
      "\u001b[32m[I 2024-03-04 15:40:46,323]\u001b[0m Trial 0 finished with value: 0.018035734072327614 and parameters: {'loss': 'warp', 'no_components': 50, 'learning_rate': 0.0001, 'max_sampled': 10, 'user_alpha': 0.0001, 'item_alpha': 0.0}. Best is trial 0 with value: 0.018035734072327614.\u001b[0m\n",
      "\u001b[32m[I 2024-03-04 15:40:58,288]\u001b[0m Trial 1 finished with value: 0.0074165635742247105 and parameters: {'loss': 'bpr', 'no_components': 30, 'learning_rate': 0.01, 'max_sampled': 10, 'user_alpha': 0.0001, 'item_alpha': 0.0}. Best is trial 0 with value: 0.018035734072327614.\u001b[0m\n",
      "\u001b[32m[I 2024-03-04 15:41:08,166]\u001b[0m Trial 2 finished with value: 0.013529609888792038 and parameters: {'loss': 'warp', 'no_components': 10, 'learning_rate': 0.0001, 'max_sampled': 20, 'user_alpha': 0.0001, 'item_alpha': 0.0}. Best is trial 0 with value: 0.018035734072327614.\u001b[0m\n",
      "\u001b[32m[I 2024-03-04 15:41:19,056]\u001b[0m Trial 3 finished with value: 0.018327903002500534 and parameters: {'loss': 'warp', 'no_components': 50, 'learning_rate': 0.001, 'max_sampled': 50, 'user_alpha': 0.0, 'item_alpha': 0.0001}. Best is trial 3 with value: 0.018327903002500534.\u001b[0m\n",
      "\u001b[32m[I 2024-03-04 15:41:30,801]\u001b[0m Trial 4 finished with value: 0.008933587931096554 and parameters: {'loss': 'bpr', 'no_components': 50, 'learning_rate': 0.001, 'max_sampled': 50, 'user_alpha': 0.0001, 'item_alpha': 0.0}. Best is trial 3 with value: 0.018327903002500534.\u001b[0m\n",
      "\u001b[32m[I 2024-03-04 15:41:40,452]\u001b[0m Trial 5 finished with value: 0.01875491812825203 and parameters: {'loss': 'warp', 'no_components': 10, 'learning_rate': 0.01, 'max_sampled': 100, 'user_alpha': 0.0001, 'item_alpha': 0.0}. Best is trial 5 with value: 0.01875491812825203.\u001b[0m\n",
      "\u001b[32m[I 2024-03-04 15:41:51,627]\u001b[0m Trial 6 finished with value: 0.0181818176060915 and parameters: {'loss': 'warp', 'no_components': 30, 'learning_rate': 0.0001, 'max_sampled': 100, 'user_alpha': 0.0, 'item_alpha': 0.0001}. Best is trial 5 with value: 0.01875491812825203.\u001b[0m\n",
      "\u001b[32m[I 2024-03-04 15:42:03,727]\u001b[0m Trial 7 finished with value: 0.0022474434226751328 and parameters: {'loss': 'bpr', 'no_components': 50, 'learning_rate': 0.0001, 'max_sampled': 50, 'user_alpha': 0.0, 'item_alpha': 0.0}. Best is trial 5 with value: 0.01875491812825203.\u001b[0m\n",
      "\u001b[32m[I 2024-03-04 15:42:14,957]\u001b[0m Trial 8 finished with value: 0.006776042282581329 and parameters: {'loss': 'bpr', 'no_components': 30, 'learning_rate': 0.001, 'max_sampled': 50, 'user_alpha': 0.0, 'item_alpha': 0.0001}. Best is trial 5 with value: 0.01875491812825203.\u001b[0m\n",
      "\u001b[32m[I 2024-03-04 15:42:24,645]\u001b[0m Trial 9 finished with value: 0.003461063141003251 and parameters: {'loss': 'bpr', 'no_components': 10, 'learning_rate': 0.01, 'max_sampled': 20, 'user_alpha': 0.0001, 'item_alpha': 0.0}. Best is trial 5 with value: 0.01875491812825203.\u001b[0m\n"
     ]
    }
   ],
   "source": [
    "study = optuna.create_study(direction=\"maximize\")\n",
    "study.optimize(objective, n_trials=10)\n",
    "best_params = study.best_params"
   ]
  },
  {
   "cell_type": "code",
   "execution_count": 13,
   "metadata": {},
   "outputs": [],
   "source": [
    "best_params = {\n",
    "    'loss': 'warp',\n",
    "    'no_components': 50,\n",
    "    'learning_rate': 0.01,\n",
    "    'max_sampled': 100,\n",
    "    'user_alpha': 0.0,\n",
    "    'item_alpha': 0.0001\n",
    "}"
   ]
  },
  {
   "cell_type": "code",
   "execution_count": 14,
   "metadata": {
    "tags": []
   },
   "outputs": [
    {
     "name": "stdout",
     "output_type": "stream",
     "text": [
      "0:\t0.018575118854641914 +/- 0.0010112762210925646\n",
      "1:\t0.018878525123000145 +/- 0.001022935649157718\n",
      "2:\t0.018934711813926697 +/- 0.0010298153440808984\n",
      "3:\t0.01928306557238102 +/- 0.001042260545320753\n",
      "4:\t0.019766267389059067 +/- 0.001057098902666654\n",
      "5:\t0.020024722442030907 +/- 0.0010579815042733437\n",
      "6:\t0.020148329436779022 +/- 0.001064058630042813\n",
      "7:\t0.02065400779247284 +/- 0.0010827341332846755\n",
      "8:\t0.021339476108551025 +/- 0.001099052162200785\n",
      "9:\t0.02202494628727436 +/- 0.001124481738826965\n",
      "10:\t0.022373301908373833 +/- 0.001136335055958571\n",
      "11:\t0.02284526452422142 +/- 0.0011501287343703762\n",
      "12:\t0.02335093915462494 +/- 0.0011615063460319551\n",
      "13:\t0.02394651062786579 +/- 0.0011830131714497994\n",
      "14:\t0.024227440357208252 +/- 0.001188527825424494\n",
      "15:\t0.024598270654678345 +/- 0.001204118131784601\n",
      "16:\t0.025070233270525932 +/- 0.001215574614886785\n",
      "17:\t0.025463536381721497 +/- 0.0012241875464826485\n",
      "18:\t0.025901786983013153 +/- 0.0012366018647933556\n",
      "19:\t0.026216428726911545 +/- 0.0012435280776123194\n",
      "20:\t0.02662096917629242 +/- 0.0012511085596044265\n",
      "21:\t0.02694684825837612 +/- 0.0012633537571126589\n",
      "22:\t0.0274637583643198 +/- 0.0012711963182979826\n",
      "23:\t0.027677269652485847 +/- 0.0012785264086214373\n",
      "24:\t0.028160465881228447 +/- 0.0012821241537658871\n",
      "25:\t0.028812225908041 +/- 0.0012928553137376414\n",
      "26:\t0.029194293543696404 +/- 0.0013000175990726453\n",
      "27:\t0.029677491635084152 +/- 0.0013077725425241471\n",
      "28:\t0.030250592157244682 +/- 0.0013200384060526363\n",
      "29:\t0.030857400968670845 +/- 0.001327917036022378\n",
      "30:\t0.03161029517650604 +/- 0.0013448249366252879\n",
      "31:\t0.03182379901409149 +/- 0.001347518330531242\n",
      "32:\t0.03226204961538315 +/- 0.0013593487370186686\n",
      "33:\t0.03267782926559448 +/- 0.0013666406687354322\n",
      "34:\t0.03290257602930069 +/- 0.0013675072483713612\n",
      "35:\t0.033531855791807175 +/- 0.0013764885304930724\n",
      "36:\t0.034116197377443314 +/- 0.0013878650585431025\n",
      "37:\t0.03455444797873497 +/- 0.0014011235102505087\n",
      "38:\t0.0348578505218029 +/- 0.0014046265167852426\n",
      "39:\t0.03537476435303688 +/- 0.001409056630401002\n",
      "40:\t0.0358242504298687 +/- 0.001417898436236187\n",
      "41:\t0.03639734908938408 +/- 0.0014271352958818205\n",
      "42:\t0.036869313567876816 +/- 0.001433787587181353\n",
      "43:\t0.03728509321808815 +/- 0.0014381059340059117\n",
      "44:\t0.037678394466638565 +/- 0.0014446295851344086\n",
      "45:\t0.03802674263715744 +/- 0.001447235206504891\n",
      "46:\t0.038521189242601395 +/- 0.001455978094085814\n",
      "47:\t0.038981907069683075 +/- 0.0014621667544440088\n",
      "48:\t0.03938644751906395 +/- 0.0014690829825565565\n",
      "49:\t0.039903365075588226 +/- 0.0014755951783629638\n",
      "50:\t0.040352851152420044 +/- 0.001486062401521703\n",
      "51:\t0.04083605110645294 +/- 0.0014932417924390167\n",
      "52:\t0.04130801185965538 +/- 0.0015025534212815338\n",
      "53:\t0.04165636748075485 +/- 0.001507595156215899\n",
      "54:\t0.04206090793013573 +/- 0.0015104664172175448\n",
      "55:\t0.04258904978632927 +/- 0.00151707102960892\n",
      "56:\t0.04297111928462982 +/- 0.0015220051773966307\n",
      "57:\t0.043375659734010696 +/- 0.0015310496185914856\n",
      "58:\t0.043926287442445755 +/- 0.0015418205625872543\n",
      "59:\t0.04422968626022339 +/- 0.0015454659866398616\n",
      "60:\t0.04465670511126518 +/- 0.001548636943635641\n",
      "61:\t0.04522980377078056 +/- 0.0015538221796994286\n",
      "62:\t0.04542083665728569 +/- 0.0015565655745382882\n",
      "63:\t0.045825377106666565 +/- 0.0015614128786004264\n",
      "64:\t0.04621867835521698 +/- 0.0015668075612964778\n",
      "65:\t0.04667940363287926 +/- 0.0015691144154827258\n",
      "66:\t0.04709518328309059 +/- 0.0015734840016533888\n",
      "67:\t0.04752219468355179 +/- 0.0015762634652766664\n",
      "68:\t0.047949209809303284 +/- 0.0015808307331542037\n",
      "69:\t0.048320040106773376 +/- 0.0015843914807043362\n",
      "70:\t0.048556018620729446 +/- 0.00158541023036208\n",
      "71:\t0.04896055907011032 +/- 0.00159317817715217\n",
      "72:\t0.04924149066209793 +/- 0.0015950726397431852\n",
      "73:\t0.04979211464524269 +/- 0.0016096774013994435\n",
      "74:\t0.0500168614089489 +/- 0.0016069682177252036\n",
      "75:\t0.0505000576376915 +/- 0.001615666522430966\n",
      "76:\t0.051028210669755936 +/- 0.0016194577696377439\n",
      "77:\t0.051500171422958374 +/- 0.001625876620049284\n",
      "78:\t0.052118219435214996 +/- 0.0016303479109039069\n",
      "79:\t0.052623894065618515 +/- 0.0016359723192483537\n",
      "80:\t0.052882350981235504 +/- 0.0016411143656518295\n",
      "81:\t0.05321946367621422 +/- 0.0016429122320133305\n",
      "82:\t0.05347792059183121 +/- 0.0016447508112087447\n",
      "83:\t0.05392741039395332 +/- 0.0016457884466677718\n",
      "84:\t0.054331954568624496 +/- 0.0016529987979150582\n",
      "85:\t0.054747726768255234 +/- 0.0016569036695328345\n",
      "86:\t0.05523092672228813 +/- 0.0016606633372030402\n",
      "87:\t0.05571412667632103 +/- 0.0016655194649592205\n",
      "88:\t0.05602876842021942 +/- 0.001669986576169297\n",
      "89:\t0.05635464936494827 +/- 0.0016755564943329922\n",
      "90:\t0.056703004986047745 +/- 0.001679309350730604\n",
      "91:\t0.05700640752911568 +/- 0.0016836803301161158\n",
      "92:\t0.057467132806777954 +/- 0.0016874314836955791\n",
      "93:\t0.057770539075136185 +/- 0.001692582508594747\n",
      "94:\t0.058073945343494415 +/- 0.0016919691844579927\n",
      "95:\t0.05826498195528984 +/- 0.0016961536278554206\n",
      "96:\t0.05873693898320198 +/- 0.0017039813280823575\n",
      "97:\t0.05916395038366318 +/- 0.001709552329857602\n",
      "98:\t0.05953478440642357 +/- 0.0017146288951631864\n",
      "99:\t0.0598943755030632 +/- 0.0017168602061443015\n",
      "100:\t0.0604337602853775 +/- 0.0017222550436420026\n",
      "101:\t0.060804590582847595 +/- 0.001722957997934027\n",
      "102:\t0.06119789183139801 +/- 0.0017266566737541872\n",
      "103:\t0.06146758794784546 +/- 0.0017301036420916708\n",
      "104:\t0.06183841452002525 +/- 0.0017323888240469382\n",
      "105:\t0.06214181333780289 +/- 0.0017337221306572023\n",
      "106:\t0.062377799302339554 +/- 0.0017344007810901985\n",
      "107:\t0.06258007138967514 +/- 0.0017337721315901077\n",
      "108:\t0.06293966621160507 +/- 0.0017412879064925722\n",
      "109:\t0.06329924613237381 +/- 0.0017459629163184137\n",
      "110:\t0.06352400034666061 +/- 0.0017496595797171254\n",
      "111:\t0.06386110931634903 +/- 0.0017524003429279374\n",
      "112:\t0.06401843577623367 +/- 0.001752690750823079\n",
      "113:\t0.06427688896656036 +/- 0.0017531738867722993\n",
      "114:\t0.06476008892059326 +/- 0.0017589086686930979\n",
      "115:\t0.06493989378213882 +/- 0.0017599079133429592\n",
      "116:\t0.06518710404634476 +/- 0.001763951796842312\n",
      "117:\t0.06543431431055069 +/- 0.001764400412023613\n",
      "118:\t0.06573773175477982 +/- 0.0017687373350461551\n",
      "119:\t0.0659399926662445 +/- 0.001769874972370993\n",
      "120:\t0.0661984533071518 +/- 0.0017765247868441279\n",
      "121:\t0.06664793938398361 +/- 0.0017826397616169886\n",
      "122:\t0.06691762804985046 +/- 0.0017842644049322935\n",
      "123:\t0.06731094419956207 +/- 0.0017894259563436521\n",
      "124:\t0.06742331385612488 +/- 0.0017881412574514447\n",
      "125:\t0.06767052412033081 +/- 0.0017900772068846227\n",
      "126:\t0.06794022023677826 +/- 0.001793252653128248\n",
      "127:\t0.06816495954990387 +/- 0.0017947102654633515\n",
      "128:\t0.06838972121477127 +/- 0.0017958841263742574\n",
      "129:\t0.06853579729795456 +/- 0.0017987456348719617\n",
      "130:\t0.06888414174318314 +/- 0.0018036474291148515\n",
      "131:\t0.06908641755580902 +/- 0.0018051485407135663\n",
      "132:\t0.06924373656511307 +/- 0.0018044273198268579\n",
      "133:\t0.06950218975543976 +/- 0.0018059174405084322\n",
      "134:\t0.06972693651914597 +/- 0.001805131976937031\n",
      "135:\t0.07010900229215622 +/- 0.0018076105061529762\n",
      "136:\t0.07027757167816162 +/- 0.00180894427716819\n",
      "137:\t0.0705697238445282 +/- 0.0018118090365005415\n",
      "138:\t0.07088437676429749 +/- 0.001816407729113001\n",
      "139:\t0.07099674642086029 +/- 0.0018163826512457232\n",
      "140:\t0.07124395668506622 +/- 0.0018164770802521393\n",
      "141:\t0.07139004021883011 +/- 0.001821339245272664\n",
      "142:\t0.07156984508037567 +/- 0.0018217555069091438\n",
      "143:\t0.07172716408967972 +/- 0.0018241425483500205\n",
      "144:\t0.071873240172863 +/- 0.0018271097863745813\n",
      "145:\t0.07207552343606949 +/- 0.0018326894570422178\n",
      "146:\t0.0722440779209137 +/- 0.0018318091000594507\n",
      "147:\t0.07232273370027542 +/- 0.0018321905313247117\n",
      "148:\t0.07270480692386627 +/- 0.001839944700767964\n",
      "149:\t0.0728958398103714 +/- 0.001841822135177494\n",
      "150:\t0.07314305752515793 +/- 0.0018468030330634634\n",
      "151:\t0.07340151071548462 +/- 0.0018451336520713482\n",
      "152:\t0.07359254360198975 +/- 0.001846449311293528\n",
      "153:\t0.07363749295473099 +/- 0.0018446237354367019\n",
      "154:\t0.07398585230112076 +/- 0.0018497763083523686\n",
      "155:\t0.07423306256532669 +/- 0.0018489095739147895\n",
      "156:\t0.07430049031972885 +/- 0.0018511500181932466\n",
      "157:\t0.07453647255897522 +/- 0.0018529503613811452\n",
      "158:\t0.0747387483716011 +/- 0.0018544067353030496\n",
      "159:\t0.07486235350370407 +/- 0.0018544777892603363\n",
      "160:\t0.0749410092830658 +/- 0.0018548068975679437\n",
      "161:\t0.07513204962015152 +/- 0.0018526461761391656\n",
      "162:\t0.07534555345773697 +/- 0.0018542700454462213\n",
      "163:\t0.07539049535989761 +/- 0.0018547894049815092\n",
      "164:\t0.07552534341812134 +/- 0.0018558210031761914\n",
      "165:\t0.07563772052526474 +/- 0.001853582261715883\n",
      "166:\t0.07578379660844803 +/- 0.0018555855498667512\n",
      "167:\t0.07587369531393051 +/- 0.0018529519093976438\n",
      "168:\t0.07604225724935532 +/- 0.0018550730016040568\n",
      "169:\t0.07622204720973969 +/- 0.0018545025575243143\n",
      "170:\t0.07626700401306152 +/- 0.0018531810158394398\n",
      "171:\t0.07633441686630249 +/- 0.001853814928595626\n",
      "172:\t0.07645802199840546 +/- 0.0018548867752192727\n",
      "173:\t0.0766715407371521 +/- 0.0018561816910203708\n",
      "174:\t0.0768401101231575 +/- 0.001858006957273897\n",
      "175:\t0.07698617875576019 +/- 0.0018599645789380557\n",
      "176:\t0.0772109180688858 +/- 0.0018622011531752663\n",
      "177:\t0.0773233026266098 +/- 0.0018625328931109212\n",
      "178:\t0.07761546224355698 +/- 0.0018604108720946088\n",
      "179:\t0.07772783935070038 +/- 0.001862296046586632\n",
      "180:\t0.07790763676166534 +/- 0.0018611364274275133\n",
      "181:\t0.0779188722372055 +/- 0.0018613240470271464\n",
      "182:\t0.07804247736930847 +/- 0.0018631274862480423\n",
      "183:\t0.07821103930473328 +/- 0.001863070519240893\n",
      "184:\t0.07837960869073868 +/- 0.0018661292450405222\n",
      "185:\t0.07850321382284164 +/- 0.001867395212933096\n",
      "186:\t0.07855939865112305 +/- 0.0018670246177833257\n",
      "187:\t0.07872794568538666 +/- 0.001869284876672965\n",
      "188:\t0.07881784439086914 +/- 0.001871281663154539\n",
      "189:\t0.07885156571865082 +/- 0.0018695011345778226\n",
      "190:\t0.07890774309635162 +/- 0.00187120163070156\n",
      "191:\t0.07898640632629395 +/- 0.0018698978912064198\n",
      "192:\t0.07895268499851227 +/- 0.001868566442215954\n",
      "193:\t0.07903135567903519 +/- 0.0018685585473318111\n",
      "194:\t0.07911001890897751 +/- 0.0018672509377954242\n",
      "195:\t0.07923362404108047 +/- 0.0018677161167532607\n",
      "196:\t0.07932352274656296 +/- 0.0018684065321116464\n",
      "197:\t0.07930105179548264 +/- 0.001868299099766642\n",
      "198:\t0.07939095050096512 +/- 0.001869506707437218\n",
      "199:\t0.0794808492064476 +/- 0.0018694144456538999\n",
      "200:\t0.07968311756849289 +/- 0.0018703681786187015\n",
      "201:\t0.07963816821575165 +/- 0.0018691192389076125\n",
      "202:\t0.07981796562671661 +/- 0.0018733306177921162\n",
      "203:\t0.07984043657779694 +/- 0.0018721397286997257\n",
      "204:\t0.07997528463602066 +/- 0.0018732827840823088\n",
      "205:\t0.08005394041538239 +/- 0.0018711833641068764\n",
      "206:\t0.08014384657144547 +/- 0.0018718552032672786\n",
      "207:\t0.08016631752252579 +/- 0.0018716991632042174\n",
      "208:\t0.08008766174316406 +/- 0.0018699118233549074\n",
      "209:\t0.08020003139972687 +/- 0.001874054779910172\n",
      "210:\t0.08032363653182983 +/- 0.0018734519822856083\n",
      "211:\t0.08037981390953064 +/- 0.001873835735575617\n",
      "212:\t0.08026744425296783 +/- 0.001871771610376353\n",
      "213:\t0.08036858588457108 +/- 0.0018710643216381323\n",
      "214:\t0.08040229976177216 +/- 0.0018731603359772677\n",
      "215:\t0.08043600618839264 +/- 0.0018747363715745158\n",
      "216:\t0.08063827455043793 +/- 0.0018756428900361093\n",
      "217:\t0.08084054291248322 +/- 0.0018778316305635126\n",
      "218:\t0.08088549971580505 +/- 0.0018744091208867067\n",
      "219:\t0.08080684393644333 +/- 0.0018744502981255702\n",
      "220:\t0.08096416294574738 +/- 0.0018756603826225438\n",
      "221:\t0.08082931488752365 +/- 0.0018737731957090727\n",
      "222:\t0.08082931488752365 +/- 0.0018732553841902832\n",
      "223:\t0.08099787682294846 +/- 0.0018767128790399578\n",
      "224:\t0.08105405420064926 +/- 0.0018760532692098943\n",
      "225:\t0.08112147450447083 +/- 0.0018773806933574636\n",
      "226:\t0.08134622871875763 +/- 0.0018788667891961417\n",
      "227:\t0.08137993514537811 +/- 0.001879398378061769\n",
      "228:\t0.08135746419429779 +/- 0.0018780107360724032\n",
      "229:\t0.0814698338508606 +/- 0.0018790076586975163\n",
      "230:\t0.08146982640028 +/- 0.0018777161485327152\n",
      "231:\t0.08146982640028 +/- 0.0018787492947438963\n",
      "232:\t0.0816383883357048 +/- 0.00188165646972831\n",
      "233:\t0.08170581609010696 +/- 0.0018814245768568165\n",
      "234:\t0.08173952251672745 +/- 0.0018822103500315175\n",
      "235:\t0.08184066414833069 +/- 0.001882761598706677\n",
      "236:\t0.08190809190273285 +/- 0.0018838145595290404\n",
      "237:\t0.08194179832935333 +/- 0.0018825371363143768\n",
      "238:\t0.0819530338048935 +/- 0.001884258221057546\n",
      "239:\t0.08190808445215225 +/- 0.0018835569695836696\n",
      "240:\t0.08188561350107193 +/- 0.001882948444298061\n",
      "241:\t0.08198674768209457 +/- 0.0018845261827134575\n",
      "242:\t0.08209911733865738 +/- 0.001886017541808231\n",
      "243:\t0.08208788186311722 +/- 0.001884556059431881\n",
      "244:\t0.08214406669139862 +/- 0.0018849150444579116\n",
      "245:\t0.08211036026477814 +/- 0.001881556622664149\n",
      "246:\t0.08213282376527786 +/- 0.0018819067839961376\n",
      "247:\t0.08234633505344391 +/- 0.001883420589330141\n",
      "248:\t0.08232386410236359 +/- 0.0018825564865206095\n",
      "249:\t0.08221148699522018 +/- 0.0018839031060727618\n",
      "250:\t0.08226766437292099 +/- 0.0018821995139160271\n",
      "Early stopiing!\n"
     ]
    }
   ],
   "source": [
    "model, precisions_at = fit_model(\n",
    "    epochs=300,\n",
    "    at=10,\n",
    "    loss=best_params[\"loss\"],\n",
    "    no_components=best_params[\"no_components\"], \n",
    "    learning_rate=best_params[\"learning_rate\"], \n",
    "    max_sampled=best_params[\"max_sampled\"],\n",
    "    user_alpha=best_params[\"user_alpha\"],\n",
    "    item_alpha=best_params[\"item_alpha\"],\n",
    "    verbose=True,\n",
    ")"
   ]
  },
  {
   "cell_type": "code",
   "execution_count": 17,
   "metadata": {},
   "outputs": [
    {
     "data": {
      "image/png": "[encoded data removed]",
      "text/plain": [
       "<Figure size 640x480 with 1 Axes>"
      ]
     },
     "metadata": {},
     "output_type": "display_data"
    }
   ],
   "source": [
    "# TODO 1.4: Plot learning curve precision@k(epoch)\n",
    "figure, ax = pl.subplots()\n",
    "\n",
    "ax.plot(list(range(len(precisions_at))), precisions_at, \"r\", label=\"precision@10(epoch)\")\n",
    "\n",
    "ax.set_xlabel(\"epoch\")\n",
    "ax.legend()\n",
    "\n",
    "pass"
   ]
  },
  {
   "cell_type": "markdown",
   "metadata": {
    "tags": []
   },
   "source": [
    "## Save track embeddings"
   ]
  },
  {
   "cell_type": "code",
   "execution_count": 18,
   "metadata": {
    "tags": []
   },
   "outputs": [],
   "source": [
    "BOTIFY_DATA_DIR = \"/Users/n.anokhin/Projects/recsys-course/botify/data/\""
   ]
  },
  {
   "cell_type": "code",
   "execution_count": 19,
   "metadata": {},
   "outputs": [],
   "source": [
    "biases, embeddings = model.get_item_representations()"
   ]
  },
  {
   "cell_type": "code",
   "execution_count": 20,
   "metadata": {},
   "outputs": [],
   "source": [
    "model.item_biases *= 0.0"
   ]
  },
  {
   "cell_type": "code",
   "execution_count": 22,
   "metadata": {},
   "outputs": [],
   "source": [
    "track_meta = pd.read_json(BOTIFY_DATA_DIR + \"tracks.json\", lines=True)\n",
    "track_meta[\"dataset_index\"] = track_meta[\"track\"].map(lambda t: dataset.mapping()[2].get(t))"
   ]
  },
  {
   "cell_type": "code",
   "execution_count": 23,
   "metadata": {},
   "outputs": [],
   "source": [
    "dataset_tracks = track_meta[pd.notnull(track_meta[\"dataset_index\"])].sort_values(\"dataset_index\")"
   ]
  },
  {
   "cell_type": "code",
   "execution_count": 24,
   "metadata": {},
   "outputs": [],
   "source": [
    "writer = tb.SummaryWriter(comment='msd_ligtfm_embeddings', log_dir=DATA_DIR + \"tb\")\n",
    "writer.add_embedding(embeddings, metadata=list(dataset_tracks[[\"artist\", \"title\"]].itertuples(index=False, name=None)), tag=\"lightfm\", metadata_header=[\"artist\", \"title\"])\n",
    "writer.close()"
   ]
  },
  {
   "cell_type": "markdown",
   "metadata": {},
   "source": [
    "## Compute top recommendations"
   ]
  },
  {
   "cell_type": "code",
   "execution_count": 25,
   "metadata": {},
   "outputs": [],
   "source": [
    "tracks = dataset_tracks[\"track\"].values\n",
    "users = [user for user, index in sorted(dataset.mapping()[0].items(), key=lambda kv: kv[1])]"
   ]
  },
  {
   "cell_type": "code",
   "execution_count": 27,
   "metadata": {},
   "outputs": [
    {
     "name": "stderr",
     "output_type": "stream",
     "text": [
      "100%|█████████████████████████████████████████████████████████████████████████████████████████████████████████████████████████████████████████████████████████████████| 9699/9699 [00:08<00:00, 1113.78it/s]\n"
     ]
    }
   ],
   "source": [
    "with open(BOTIFY_DATA_DIR + \"recommendations_lfm.json\", \"w\") as rf:\n",
    "    for user_index in tqdm.tqdm(range(dataset.user_features_shape()[0])):\n",
    "        predictions = model.predict(user_index, np.arange(dataset.item_features_shape()[0]), num_threads=30)\n",
    "        top = tracks[np.argsort(predictions)[-30:]]\n",
    "        recommendation = {\n",
    "            \"user\": int(users[user_index]),\n",
    "            \"tracks\": [int(x) for x in top]\n",
    "        }\n",
    "        rf.write(json.dumps(recommendation) + \"\\n\")"
   ]
  },
  {
   "cell_type": "code",
   "execution_count": null,
   "metadata": {},
   "outputs": [],
   "source": []
  }
 ],
 "metadata": {
  "kernelspec": {
   "display_name": "Python 3 (ipykernel)",
   "language": "python",
   "name": "python3"
  },
  "language_info": {
   "codemirror_mode": {
    "name": "ipython",
    "version": 3
   },
   "file_extension": ".py",
   "mimetype": "text/x-python",
   "name": "python",
   "nbconvert_exporter": "python",
   "pygments_lexer": "ipython3",
   "version": "3.8.0"
  }
 },
 "nbformat": 4,
 "nbformat_minor": 4
}
