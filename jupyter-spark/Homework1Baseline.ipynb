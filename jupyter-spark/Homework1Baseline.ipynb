{
 "cells": [
  {
   "cell_type": "markdown",
   "metadata": {},
   "source": [
    "## Домашнее задание 1\n",
    "\n",
    "### Обучаем LightFM бейзлайн"
   ]
  },
  {
   "cell_type": "code",
   "execution_count": 1,
   "metadata": {
    "tags": []
   },
   "outputs": [
    {
     "name": "stderr",
     "output_type": "stream",
     "text": [
      "/Users/n.anokhin/Projects/virtualenv/recsys-course/lib/python3.8/site-packages/lightfm/_lightfm_fast.py:9: UserWarning: LightFM was compiled without OpenMP support. Only a single thread will be used.\n",
      "  warnings.warn(\n"
     ]
    }
   ],
   "source": [
    "import pandas as pd\n",
    "import numpy as np\n",
    "import scipy.stats as ss\n",
    "import scipy.special as sp\n",
    "\n",
    "import lightfm\n",
    "import lightfm.data as ld\n",
    "import lightfm.evaluation as lv\n",
    "\n",
    "import tqdm\n",
    "import json\n",
    "import optuna\n",
    "\n",
    "import tensorboardX as tb\n",
    "\n",
    "import matplotlib.pyplot as pl\n",
    "import seaborn as sns\n",
    "\n",
    "np.random.seed(31337)"
   ]
  },
  {
   "cell_type": "code",
   "execution_count": 2,
   "metadata": {
    "tags": []
   },
   "outputs": [
    {
     "data": {
      "text/html": [
       "<div>\n",
       "<style scoped>\n",
       "    .dataframe tbody tr th:only-of-type {\n",
       "        vertical-align: middle;\n",
       "    }\n",
       "\n",
       "    .dataframe tbody tr th {\n",
       "        vertical-align: top;\n",
       "    }\n",
       "\n",
       "    .dataframe thead th {\n",
       "        text-align: right;\n",
       "    }\n",
       "</style>\n",
       "<table border=\"1\" class=\"dataframe\">\n",
       "  <thead>\n",
       "    <tr style=\"text-align: right;\">\n",
       "      <th></th>\n",
       "      <th>user</th>\n",
       "      <th>track</th>\n",
       "      <th>time</th>\n",
       "      <th>test</th>\n",
       "    </tr>\n",
       "  </thead>\n",
       "  <tbody>\n",
       "    <tr>\n",
       "      <th>0</th>\n",
       "      <td>ee8621197232afef4ae573079d64480ba7640c9eb91a7e...</td>\n",
       "      <td>41378</td>\n",
       "      <td>1.0</td>\n",
       "      <td>False</td>\n",
       "    </tr>\n",
       "    <tr>\n",
       "      <th>2</th>\n",
       "      <td>be3d629f02589a093027c0b917aa7668f22b2f89e83328...</td>\n",
       "      <td>1263</td>\n",
       "      <td>0.8</td>\n",
       "      <td>True</td>\n",
       "    </tr>\n",
       "    <tr>\n",
       "      <th>6</th>\n",
       "      <td>0457c48d8fc39719542ac36d4b3ae96327a4b842709432...</td>\n",
       "      <td>1333</td>\n",
       "      <td>1.0</td>\n",
       "      <td>False</td>\n",
       "    </tr>\n",
       "    <tr>\n",
       "      <th>13</th>\n",
       "      <td>13c9370b295bef6567cbfc8586a3fd67c33c79581faf1e...</td>\n",
       "      <td>1635</td>\n",
       "      <td>1.0</td>\n",
       "      <td>False</td>\n",
       "    </tr>\n",
       "    <tr>\n",
       "      <th>23</th>\n",
       "      <td>5714f0813b1aeaab7c5cbb9dba6b0121e8279249ccb6d1...</td>\n",
       "      <td>6849</td>\n",
       "      <td>1.0</td>\n",
       "      <td>False</td>\n",
       "    </tr>\n",
       "  </tbody>\n",
       "</table>\n",
       "</div>"
      ],
      "text/plain": [
       "                                                 user  track  time   test\n",
       "0   ee8621197232afef4ae573079d64480ba7640c9eb91a7e...  41378   1.0  False\n",
       "2   be3d629f02589a093027c0b917aa7668f22b2f89e83328...   1263   0.8   True\n",
       "6   0457c48d8fc39719542ac36d4b3ae96327a4b842709432...   1333   1.0  False\n",
       "13  13c9370b295bef6567cbfc8586a3fd67c33c79581faf1e...   1635   1.0  False\n",
       "23  5714f0813b1aeaab7c5cbb9dba6b0121e8279249ccb6d1...   6849   1.0  False"
      ]
     },
     "execution_count": 2,
     "metadata": {},
     "output_type": "execute_result"
    }
   ],
   "source": [
    "data = pd.read_csv(\"/Users/n.anokhin/Downloads/train.csv\")\n",
    "\n",
    "data = data[data[\"time\"] > 0.75].copy()\n",
    "\n",
    "data[\"test\"] = np.random.random(len(data)) > 0.8\n",
    "\n",
    "data.head()"
   ]
  },
  {
   "cell_type": "code",
   "execution_count": 3,
   "metadata": {
    "tags": []
   },
   "outputs": [
    {
     "data": {
      "text/plain": [
       "10000"
      ]
     },
     "execution_count": 3,
     "metadata": {},
     "output_type": "execute_result"
    }
   ],
   "source": [
    "user_counts = data.loc[~data[\"test\"], \"user\"].value_counts()\n",
    "users = set(user_counts[user_counts >= 5].index.values)\n",
    "\n",
    "len(users)"
   ]
  },
  {
   "cell_type": "code",
   "execution_count": 4,
   "metadata": {
    "tags": []
   },
   "outputs": [
    {
     "data": {
      "text/plain": [
       "22333"
      ]
     },
     "execution_count": 4,
     "metadata": {},
     "output_type": "execute_result"
    }
   ],
   "source": [
    "track_counts = data.loc[~data[\"test\"], \"track\"].value_counts()\n",
    "tracks = set(track_counts[track_counts >= 3].index.values)\n",
    "\n",
    "len(tracks)"
   ]
  },
  {
   "cell_type": "code",
   "execution_count": 5,
   "metadata": {
    "tags": []
   },
   "outputs": [
    {
     "data": {
      "text/plain": [
       "(201806, 45790)"
      ]
     },
     "execution_count": 5,
     "metadata": {},
     "output_type": "execute_result"
    }
   ],
   "source": [
    "train_data = data[~data[\"test\"] & data[\"user\"].isin(users) & data[\"track\"].isin(tracks)]\n",
    "test_data = data[data[\"test\"] & data[\"user\"].isin(users) & data[\"track\"].isin(tracks)]\n",
    "\n",
    "len(train_data), len(test_data)"
   ]
  },
  {
   "cell_type": "code",
   "execution_count": 6,
   "metadata": {
    "tags": []
   },
   "outputs": [],
   "source": [
    "dataset = ld.Dataset()\n",
    "dataset.fit(users, tracks)"
   ]
  },
  {
   "cell_type": "code",
   "execution_count": 7,
   "metadata": {
    "tags": []
   },
   "outputs": [],
   "source": [
    "train_interactions, _ = dataset.build_interactions(train_data[[\"user\", \"track\"]].itertuples(index=False, name=None))\n",
    "test_interactions, _ = dataset.build_interactions(test_data[[\"user\", \"track\"]].itertuples(index=False, name=None))"
   ]
  },
  {
   "cell_type": "code",
   "execution_count": 8,
   "metadata": {
    "tags": []
   },
   "outputs": [],
   "source": [
    "def fit_model(epochs=1, at=10, loss=\"warp\", no_components=30, learning_rate=0.01, max_sampled=10, user_alpha=0.0, item_alpha=0.0, threads=30, verbose=False):\n",
    "    model = lightfm.LightFM(\n",
    "        no_components=no_components,\n",
    "        loss=loss,\n",
    "        learning_rate=learning_rate,\n",
    "        max_sampled=max_sampled,\n",
    "        user_alpha=user_alpha,\n",
    "        item_alpha=user_alpha,\n",
    "    )\n",
    "\n",
    "    precisions_at = []\n",
    "    for epoch in range(epochs):\n",
    "        model = model.fit_partial(train_interactions, num_threads=threads)\n",
    "        precision_at = lv.precision_at_k(model, test_interactions, train_interactions=train_interactions, k=at, num_threads=threads)\n",
    "        if verbose:\n",
    "            print(f\"{epoch}:\\t{np.mean(precision_at)} +/- {ss.sem(precision_at) * 1.96}\")\n",
    "        precisions_at.append(np.mean(precision_at))\n",
    "            \n",
    "    return model, precisions_at\n",
    "\n",
    "\n",
    "def objective(trial):\n",
    "    loss = trial.suggest_categorical(\"loss\", [\"warp\", \"bpr\"])\n",
    "    no_components = trial.suggest_categorical(\"no_components\", [10, 30, 50])\n",
    "    learning_rate = trial.suggest_categorical(\"learning_rate\", [0.001, 0.01])\n",
    "    max_sampled = trial.suggest_categorical(\"max_sampled\", [10, 20, 50, 100])\n",
    "    user_alpha = trial.suggest_categorical(\"user_alpha\", [0.0, 0.001, 0.01])\n",
    "    item_alpha = trial.suggest_categorical(\"item_alpha\", [0.0, 0.001, 0.01])\n",
    "    \n",
    "    model, precisions_at = fit_model(\n",
    "        epochs=1, \n",
    "        at=10,\n",
    "        loss=loss,\n",
    "        no_components=no_components, \n",
    "        learning_rate=learning_rate, \n",
    "        max_sampled=max_sampled, \n",
    "        user_alpha=user_alpha, \n",
    "        item_alpha=item_alpha,\n",
    "    )\n",
    "    \n",
    "    return precisions_at[-1]\n"
   ]
  },
  {
   "cell_type": "raw",
   "metadata": {
    "tags": []
   },
   "source": [
    "study = optuna.create_study(direction=\"maximize\")\n",
    "study.optimize(objective, n_trials=30)\n",
    "best_params = study.best_params\n",
    "\n",
    "best_params"
   ]
  },
  {
   "cell_type": "code",
   "execution_count": 9,
   "metadata": {
    "tags": []
   },
   "outputs": [],
   "source": [
    "best_params = {\n",
    "    'loss': 'warp',\n",
    "    'no_components': 50,\n",
    "    'learning_rate': 0.01,\n",
    "    'max_sampled': 100,\n",
    "    'user_alpha': 0.0,\n",
    "    'item_alpha': 0.01\n",
    "}"
   ]
  },
  {
   "cell_type": "code",
   "execution_count": 10,
   "metadata": {
    "tags": []
   },
   "outputs": [
    {
     "name": "stdout",
     "output_type": "stream",
     "text": [
      "0:\t0.00976130086928606 +/- 0.0006934697580381204\n",
      "1:\t0.012148299254477024 +/- 0.0008020147459773475\n",
      "2:\t0.014982224442064762 +/- 0.0009119403226215843\n",
      "3:\t0.019248349592089653 +/- 0.0010361111080241904\n",
      "4:\t0.02353478968143463 +/- 0.001151955312084622\n",
      "5:\t0.026978163048624992 +/- 0.0012407144129772058\n",
      "6:\t0.02970035746693611 +/- 0.00129665750684987\n",
      "7:\t0.03239208087325096 +/- 0.0013415014357953338\n",
      "8:\t0.035540882498025894 +/- 0.0014054855151056829\n",
      "9:\t0.038496699184179306 +/- 0.001452032569950019\n",
      "10:\t0.04108684882521629 +/- 0.0014993175675230926\n",
      "11:\t0.0437074713408947 +/- 0.0015337197687510231\n",
      "12:\t0.046307772397994995 +/- 0.0015661436241154348\n",
      "13:\t0.04855256900191307 +/- 0.0016011061260949213\n",
      "14:\t0.0508786216378212 +/- 0.0016270523042914216\n",
      "15:\t0.05321483314037323 +/- 0.0016584912548411725\n",
      "16:\t0.05520569533109665 +/- 0.0016863991479621517\n",
      "17:\t0.05763331800699234 +/- 0.001713369085556557\n",
      "18:\t0.05948197469115257 +/- 0.0017318754941204964\n",
      "19:\t0.061635345220565796 +/- 0.0017536237583856504\n",
      "20:\t0.06354495137929916 +/- 0.0017730305924809847\n",
      "21:\t0.06513966619968414 +/- 0.0017940294342541708\n",
      "22:\t0.06692737340927124 +/- 0.0018091628528984457\n",
      "23:\t0.06839004904031754 +/- 0.0018247769498339161\n",
      "24:\t0.07008634507656097 +/- 0.0018405386647504245\n",
      "25:\t0.07164043188095093 +/- 0.0018577050317217928\n",
      "26:\t0.0730624720454216 +/- 0.0018754814450853857\n",
      "27:\t0.07397663593292236 +/- 0.0018784024561219325\n",
      "28:\t0.0751752257347107 +/- 0.0018838813938887248\n",
      "29:\t0.07639411836862564 +/- 0.0018943850828924166\n",
      "30:\t0.07770442217588425 +/- 0.001907336316287592\n",
      "31:\t0.07895379513502121 +/- 0.001922685789962937\n",
      "32:\t0.07988826930522919 +/- 0.0019294634127393776\n",
      "33:\t0.0807313472032547 +/- 0.0019394717058067055\n",
      "34:\t0.08176741003990173 +/- 0.0019470448173044908\n",
      "35:\t0.08247841894626617 +/- 0.0019522323456969515\n",
      "36:\t0.08340274542570114 +/- 0.0019603420625375722\n",
      "37:\t0.08436769992113113 +/- 0.0019701868425670804\n",
      "38:\t0.08524124324321747 +/- 0.0019746218577620872\n",
      "39:\t0.08604367822408676 +/- 0.0019788012274605214\n",
      "40:\t0.08666327595710754 +/- 0.0019841675752417763\n",
      "41:\t0.08733367919921875 +/- 0.0019926561242690284\n",
      "42:\t0.08766887336969376 +/- 0.0019951659242995736\n",
      "43:\t0.08852209895849228 +/- 0.0020038884838850016\n",
      "44:\t0.08902996778488159 +/- 0.0020119060682668687\n",
      "45:\t0.08980193734169006 +/- 0.0020160479079701235\n",
      "46:\t0.09057389944791794 +/- 0.002021439128571713\n",
      "47:\t0.09112240374088287 +/- 0.0020259330143473932\n",
      "48:\t0.09145759791135788 +/- 0.0020222853931688885\n",
      "49:\t0.09218893200159073 +/- 0.0020295030735358608\n",
      "50:\t0.0929609015583992 +/- 0.0020372311618372684\n",
      "51:\t0.09339766949415207 +/- 0.002038093468667677\n",
      "52:\t0.093946173787117 +/- 0.002041283959787255\n",
      "53:\t0.09436262398958206 +/- 0.002046500334764245\n",
      "54:\t0.09478924423456192 +/- 0.0020463603699586953\n",
      "55:\t0.09531742334365845 +/- 0.0020503414929767126\n",
      "56:\t0.09595734626054764 +/- 0.00205733752560745\n",
      "57:\t0.09630269557237625 +/- 0.002062401572956949\n",
      "58:\t0.09657694399356842 +/- 0.0020624903203573138\n",
      "59:\t0.09692230075597763 +/- 0.002064431430578557\n",
      "60:\t0.09723718464374542 +/- 0.0020679624880073286\n",
      "61:\t0.09757237881422043 +/- 0.002069755097188824\n",
      "62:\t0.09807009249925613 +/- 0.0020731169016981604\n",
      "63:\t0.09837481379508972 +/- 0.0020739834766456684\n",
      "64:\t0.09859827905893326 +/- 0.0020765302179655857\n",
      "65:\t0.09874048084020615 +/- 0.0020756109538483756\n",
      "66:\t0.09920772910118103 +/- 0.002076464871621039\n",
      "67:\t0.09969528019428253 +/- 0.002077850979442987\n",
      "68:\t0.0997968539595604 +/- 0.0020780467241237246\n",
      "69:\t0.10006094723939896 +/- 0.0020814809394472888\n",
      "70:\t0.10044693946838379 +/- 0.0020843171768476663\n",
      "71:\t0.10071102529764175 +/- 0.002087329142931353\n",
      "72:\t0.10106653720140457 +/- 0.0020905908674535454\n",
      "73:\t0.10118842869997025 +/- 0.0020888581590878847\n",
      "74:\t0.10153378546237946 +/- 0.0020929411282104666\n",
      "75:\t0.10183849930763245 +/- 0.0020941706402878243\n",
      "76:\t0.1020822748541832 +/- 0.0020976750587788414\n",
      "77:\t0.10235653072595596 +/- 0.002098978600611395\n",
      "78:\t0.10254953056573868 +/- 0.0020963394324798206\n",
      "79:\t0.10283392667770386 +/- 0.0020961969656745918\n",
      "80:\t0.1030675545334816 +/- 0.002096919454875902\n",
      "81:\t0.10316912084817886 +/- 0.0020962935134268956\n",
      "82:\t0.10349417477846146 +/- 0.002101568758984559\n",
      "83:\t0.10367699712514877 +/- 0.0020967259178419394\n",
      "84:\t0.10373795032501221 +/- 0.0021021595252616134\n",
      "85:\t0.10385983437299728 +/- 0.0021024504931065903\n",
      "86:\t0.10410361737012863 +/- 0.0021024590293407877\n",
      "87:\t0.10422550141811371 +/- 0.0021055675431767783\n",
      "88:\t0.10431691259145737 +/- 0.002105024462070069\n",
      "89:\t0.10474353283643723 +/- 0.0021056075751716362\n",
      "90:\t0.1047028973698616 +/- 0.0021037599219972114\n",
      "91:\t0.10493652522563934 +/- 0.0021038336573995045\n",
      "92:\t0.1050279438495636 +/- 0.0021029011474016424\n",
      "93:\t0.10526155680418015 +/- 0.002102018235867998\n",
      "94:\t0.10533266514539719 +/- 0.0021007219056815764\n",
      "95:\t0.10549518465995789 +/- 0.002100181032221643\n",
      "96:\t0.10579990595579147 +/- 0.0021021252331483715\n",
      "97:\t0.10596242547035217 +/- 0.0021004387381885394\n",
      "98:\t0.10602336376905441 +/- 0.002102068717390925\n",
      "99:\t0.10612494498491287 +/- 0.0020991237165927544\n",
      "100:\t0.10631793737411499 +/- 0.0021029567801003784\n",
      "101:\t0.10655155032873154 +/- 0.0021014520480583747\n",
      "102:\t0.10664296895265579 +/- 0.00210105717363851\n",
      "103:\t0.10686644166707993 +/- 0.002105864986785629\n",
      "104:\t0.10708989948034286 +/- 0.002105764318092678\n",
      "105:\t0.10724225640296936 +/- 0.002106032620764096\n",
      "106:\t0.10724225640296936 +/- 0.0021058445292588455\n",
      "107:\t0.10726256668567657 +/- 0.0021050640525355716\n",
      "108:\t0.10755714029073715 +/- 0.002108892700749646\n",
      "109:\t0.10758761316537857 +/- 0.002106311078610679\n",
      "110:\t0.10761807858943939 +/- 0.0021095588213699617\n",
      "111:\t0.10766886919736862 +/- 0.0021073251243627733\n",
      "112:\t0.10775013267993927 +/- 0.002105326909678277\n",
      "113:\t0.10785170644521713 +/- 0.002104426778499786\n",
      "114:\t0.10798376053571701 +/- 0.002106210115564825\n",
      "115:\t0.10836973041296005 +/- 0.0021067542269066963\n",
      "116:\t0.10832910239696503 +/- 0.0021079457674595195\n",
      "117:\t0.10834942013025284 +/- 0.002107726474546512\n",
      "118:\t0.10850179940462112 +/- 0.002111716280975179\n",
      "119:\t0.10875572264194489 +/- 0.0021125313441645974\n",
      "120:\t0.10899950563907623 +/- 0.002114757387996299\n",
      "121:\t0.10905028879642487 +/- 0.0021128913377654133\n",
      "122:\t0.1092737466096878 +/- 0.002114576213784277\n",
      "123:\t0.10935501009225845 +/- 0.0021136865321338552\n",
      "124:\t0.10952768474817276 +/- 0.002114229318887661\n",
      "125:\t0.10952768474817276 +/- 0.0021134791605134343\n",
      "126:\t0.10961908847093582 +/- 0.002112661153794982\n",
      "127:\t0.1097613126039505 +/- 0.0021170924895786967\n",
      "128:\t0.10984256118535995 +/- 0.002118817250415966\n",
      "129:\t0.10980194061994553 +/- 0.0021177681766683717\n",
      "130:\t0.11003555357456207 +/- 0.0021172473192058667\n",
      "131:\t0.11014729738235474 +/- 0.0021188175447688696\n",
      "132:\t0.11017776280641556 +/- 0.002120911129794056\n",
      "133:\t0.11029966175556183 +/- 0.0021229231790650103\n",
      "134:\t0.11029966175556183 +/- 0.002120494326082891\n",
      "135:\t0.1102488711476326 +/- 0.002119562257614384\n",
      "136:\t0.1104012206196785 +/- 0.0021195529854979283\n",
      "137:\t0.11036059260368347 +/- 0.0021183212657737956\n",
      "138:\t0.11053327471017838 +/- 0.0021201400723636905\n",
      "139:\t0.11062469333410263 +/- 0.0021178105634864566\n",
      "140:\t0.11074657738208771 +/- 0.0021141984118328077\n",
      "141:\t0.11069578677415848 +/- 0.002119822465580959\n",
      "142:\t0.11075674742460251 +/- 0.0021189538301631277\n",
      "143:\t0.11079736053943634 +/- 0.002119060533090598\n",
      "144:\t0.11081768572330475 +/- 0.002117148416630336\n",
      "145:\t0.11093956977128983 +/- 0.0021206457706516722\n",
      "146:\t0.1108989417552948 +/- 0.002118670221140735\n",
      "147:\t0.110909104347229 +/- 0.0021176207058637856\n",
      "148:\t0.11100051552057266 +/- 0.0021162189973379596\n",
      "149:\t0.11110208928585052 +/- 0.0021165738397629667\n"
     ]
    }
   ],
   "source": [
    "model, precisions_at = fit_model(\n",
    "    epochs=150,\n",
    "    at=10,\n",
    "    loss=best_params[\"loss\"],\n",
    "    no_components=best_params[\"no_components\"], \n",
    "    learning_rate=best_params[\"learning_rate\"], \n",
    "    max_sampled=best_params[\"max_sampled\"],\n",
    "    user_alpha=best_params[\"user_alpha\"],\n",
    "    item_alpha=best_params[\"item_alpha\"],\n",
    "    verbose=True,\n",
    ")"
   ]
  },
  {
   "cell_type": "code",
   "execution_count": 11,
   "metadata": {
    "tags": []
   },
   "outputs": [
    {
     "data": {
      "image/png": "[encoded data removed]",
      "text/plain": [
       "<Figure size 640x480 with 1 Axes>"
      ]
     },
     "metadata": {},
     "output_type": "display_data"
    }
   ],
   "source": [
    "figure, ax = pl.subplots()\n",
    "\n",
    "ax.plot(np.arange(len(precisions_at)), precisions_at)\n",
    "\n",
    "pass"
   ]
  },
  {
   "cell_type": "markdown",
   "metadata": {},
   "source": [
    "### Готовим данные для сабмита"
   ]
  },
  {
   "cell_type": "code",
   "execution_count": 12,
   "metadata": {
    "tags": []
   },
   "outputs": [
    {
     "data": {
      "text/html": [
       "<div>\n",
       "<style scoped>\n",
       "    .dataframe tbody tr th:only-of-type {\n",
       "        vertical-align: middle;\n",
       "    }\n",
       "\n",
       "    .dataframe tbody tr th {\n",
       "        vertical-align: top;\n",
       "    }\n",
       "\n",
       "    .dataframe thead th {\n",
       "        text-align: right;\n",
       "    }\n",
       "</style>\n",
       "<table border=\"1\" class=\"dataframe\">\n",
       "  <thead>\n",
       "    <tr style=\"text-align: right;\">\n",
       "      <th></th>\n",
       "      <th>user</th>\n",
       "      <th>track</th>\n",
       "    </tr>\n",
       "  </thead>\n",
       "  <tbody>\n",
       "    <tr>\n",
       "      <th>0</th>\n",
       "      <td>6b86b273ff34fce19d6b804eff5a3f5747ada4eaa22f1d...</td>\n",
       "      <td>4218</td>\n",
       "    </tr>\n",
       "    <tr>\n",
       "      <th>1</th>\n",
       "      <td>6b86b273ff34fce19d6b804eff5a3f5747ada4eaa22f1d...</td>\n",
       "      <td>19007</td>\n",
       "    </tr>\n",
       "    <tr>\n",
       "      <th>2</th>\n",
       "      <td>6b86b273ff34fce19d6b804eff5a3f5747ada4eaa22f1d...</td>\n",
       "      <td>346</td>\n",
       "    </tr>\n",
       "    <tr>\n",
       "      <th>3</th>\n",
       "      <td>6b86b273ff34fce19d6b804eff5a3f5747ada4eaa22f1d...</td>\n",
       "      <td>8822</td>\n",
       "    </tr>\n",
       "    <tr>\n",
       "      <th>4</th>\n",
       "      <td>6b86b273ff34fce19d6b804eff5a3f5747ada4eaa22f1d...</td>\n",
       "      <td>29271</td>\n",
       "    </tr>\n",
       "  </tbody>\n",
       "</table>\n",
       "</div>"
      ],
      "text/plain": [
       "                                                user  track\n",
       "0  6b86b273ff34fce19d6b804eff5a3f5747ada4eaa22f1d...   4218\n",
       "1  6b86b273ff34fce19d6b804eff5a3f5747ada4eaa22f1d...  19007\n",
       "2  6b86b273ff34fce19d6b804eff5a3f5747ada4eaa22f1d...    346\n",
       "3  6b86b273ff34fce19d6b804eff5a3f5747ada4eaa22f1d...   8822\n",
       "4  6b86b273ff34fce19d6b804eff5a3f5747ada4eaa22f1d...  29271"
      ]
     },
     "execution_count": 12,
     "metadata": {},
     "output_type": "execute_result"
    }
   ],
   "source": [
    "submit_data = pd.read_csv(\"/Users/n.anokhin/Downloads/test.csv\")\n",
    "submit_data.head()"
   ]
  },
  {
   "cell_type": "code",
   "execution_count": 13,
   "metadata": {
    "tags": []
   },
   "outputs": [],
   "source": [
    "filtered_submit_data = submit_data[submit_data[\"user\"].isin(users) & submit_data[\"track\"].isin(tracks)].copy()"
   ]
  },
  {
   "cell_type": "code",
   "execution_count": 14,
   "metadata": {
    "tags": []
   },
   "outputs": [],
   "source": [
    "filtered_submit_data[\"score\"] = model.predict(\n",
    "    filtered_submit_data[\"user\"].map(dataset.mapping()[0]).values,\n",
    "    filtered_submit_data[\"track\"].map(dataset.mapping()[2]).values,\n",
    ")"
   ]
  },
  {
   "cell_type": "code",
   "execution_count": 15,
   "metadata": {
    "tags": []
   },
   "outputs": [
    {
     "data": {
      "text/plain": [
       "<Axes: xlabel='score', ylabel='Count'>"
      ]
     },
     "execution_count": 15,
     "metadata": {},
     "output_type": "execute_result"
    },
    {
     "data": {
      "image/png": "[encoded data removed]",
      "text/plain": [
       "<Figure size 640x480 with 1 Axes>"
      ]
     },
     "metadata": {},
     "output_type": "display_data"
    }
   ],
   "source": [
    "sns.histplot(filtered_submit_data[\"score\"])"
   ]
  },
  {
   "cell_type": "code",
   "execution_count": 16,
   "metadata": {
    "tags": []
   },
   "outputs": [
    {
     "data": {
      "text/html": [
       "<div>\n",
       "<style scoped>\n",
       "    .dataframe tbody tr th:only-of-type {\n",
       "        vertical-align: middle;\n",
       "    }\n",
       "\n",
       "    .dataframe tbody tr th {\n",
       "        vertical-align: top;\n",
       "    }\n",
       "\n",
       "    .dataframe thead th {\n",
       "        text-align: right;\n",
       "    }\n",
       "</style>\n",
       "<table border=\"1\" class=\"dataframe\">\n",
       "  <thead>\n",
       "    <tr style=\"text-align: right;\">\n",
       "      <th></th>\n",
       "      <th>user</th>\n",
       "      <th>track</th>\n",
       "      <th>score</th>\n",
       "    </tr>\n",
       "  </thead>\n",
       "  <tbody>\n",
       "    <tr>\n",
       "      <th>0</th>\n",
       "      <td>6b86b273ff34fce19d6b804eff5a3f5747ada4eaa22f1d...</td>\n",
       "      <td>4218</td>\n",
       "      <td>1.034645</td>\n",
       "    </tr>\n",
       "    <tr>\n",
       "      <th>1</th>\n",
       "      <td>6b86b273ff34fce19d6b804eff5a3f5747ada4eaa22f1d...</td>\n",
       "      <td>19007</td>\n",
       "      <td>-1.862102</td>\n",
       "    </tr>\n",
       "    <tr>\n",
       "      <th>2</th>\n",
       "      <td>6b86b273ff34fce19d6b804eff5a3f5747ada4eaa22f1d...</td>\n",
       "      <td>346</td>\n",
       "      <td>-1.352723</td>\n",
       "    </tr>\n",
       "    <tr>\n",
       "      <th>3</th>\n",
       "      <td>6b86b273ff34fce19d6b804eff5a3f5747ada4eaa22f1d...</td>\n",
       "      <td>8822</td>\n",
       "      <td>0.015543</td>\n",
       "    </tr>\n",
       "    <tr>\n",
       "      <th>4</th>\n",
       "      <td>6b86b273ff34fce19d6b804eff5a3f5747ada4eaa22f1d...</td>\n",
       "      <td>29271</td>\n",
       "      <td>0.016366</td>\n",
       "    </tr>\n",
       "  </tbody>\n",
       "</table>\n",
       "</div>"
      ],
      "text/plain": [
       "                                                user  track     score\n",
       "0  6b86b273ff34fce19d6b804eff5a3f5747ada4eaa22f1d...   4218  1.034645\n",
       "1  6b86b273ff34fce19d6b804eff5a3f5747ada4eaa22f1d...  19007 -1.862102\n",
       "2  6b86b273ff34fce19d6b804eff5a3f5747ada4eaa22f1d...    346 -1.352723\n",
       "3  6b86b273ff34fce19d6b804eff5a3f5747ada4eaa22f1d...   8822  0.015543\n",
       "4  6b86b273ff34fce19d6b804eff5a3f5747ada4eaa22f1d...  29271  0.016366"
      ]
     },
     "execution_count": 16,
     "metadata": {},
     "output_type": "execute_result"
    }
   ],
   "source": [
    "scored_submit_data = pd.merge(\n",
    "    submit_data,\n",
    "    filtered_submit_data,\n",
    "    left_on=[\"user\", \"track\"],\n",
    "    right_on=[\"user\", \"track\"],\n",
    "    how=\"left\"\n",
    ")\n",
    "\n",
    "# Fill missing scores with small random numbers\n",
    "scored_submit_data[\"score\"] = scored_submit_data[\"score\"].map(lambda s : np.random.random() * 0.05 if pd.isna(s) else s)\n",
    "\n",
    "scored_submit_data.head()"
   ]
  },
  {
   "cell_type": "code",
   "execution_count": 17,
   "metadata": {
    "tags": []
   },
   "outputs": [],
   "source": [
    "scored_submit_data.to_csv(\"/Users/n.anokhin/Desktop/submit.csv\", index=False)"
   ]
  },
  {
   "cell_type": "code",
   "execution_count": 18,
   "metadata": {
    "tags": []
   },
   "outputs": [
    {
     "name": "stdout",
     "output_type": "stream",
     "text": [
      "user,track,score\n",
      "6b86b273ff34fce19d6b804eff5a3f5747ada4eaa22f1d49c01e52ddb7875b4b,4218,1.0346451997756958\n",
      "6b86b273ff34fce19d6b804eff5a3f5747ada4eaa22f1d49c01e52ddb7875b4b,19007,-1.8621021509170532\n",
      "6b86b273ff34fce19d6b804eff5a3f5747ada4eaa22f1d49c01e52ddb7875b4b,346,-1.3527225255966187\n",
      "6b86b273ff34fce19d6b804eff5a3f5747ada4eaa22f1d49c01e52ddb7875b4b,8822,0.015542619011862697\n",
      "6b86b273ff34fce19d6b804eff5a3f5747ada4eaa22f1d49c01e52ddb7875b4b,29271,0.016366001890425346\n",
      "6b86b273ff34fce19d6b804eff5a3f5747ada4eaa22f1d49c01e52ddb7875b4b,43736,0.042496463939189794\n",
      "4e07408562bedb8b60ce05c1decfe3ad16b72230967de01f640b7e4729b49fce,2298,0.8773146271705627\n",
      "4e07408562bedb8b60ce05c1decfe3ad16b72230967de01f640b7e4729b49fce,837,-0.6583950519561768\n",
      "4e07408562bedb8b60ce05c1decfe3ad16b72230967de01f640b7e4729b49fce,33028,0.0036338878051496494\n"
     ]
    }
   ],
   "source": [
    "%%sh \n",
    "head /Users/n.anokhin/Desktop/submit.csv"
   ]
  },
  {
   "cell_type": "code",
   "execution_count": null,
   "metadata": {},
   "outputs": [],
   "source": []
  }
 ],
 "metadata": {
  "kernelspec": {
   "display_name": "Python 3 (ipykernel)",
   "language": "python",
   "name": "python3"
  },
  "language_info": {
   "codemirror_mode": {
    "name": "ipython",
    "version": 3
   },
   "file_extension": ".py",
   "mimetype": "text/x-python",
   "name": "python",
   "nbconvert_exporter": "python",
   "pygments_lexer": "ipython3",
   "version": "3.8.0"
  }
 },
 "nbformat": 4,
 "nbformat_minor": 4
}
