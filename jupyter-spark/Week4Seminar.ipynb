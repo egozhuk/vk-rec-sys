{
 "cells": [
  {
   "cell_type": "code",
   "execution_count": 1,
   "metadata": {
    "tags": []
   },
   "outputs": [],
   "source": [
    "from pyspark.sql import SparkSession\n",
    "\n",
    "import pyspark.sql.functions as spf\n",
    "\n",
    "from pyspark.ml.recommendation import ALS\n",
    "from pyspark.ml.evaluation import RegressionEvaluator"
   ]
  },
  {
   "cell_type": "code",
   "execution_count": 2,
   "metadata": {},
   "outputs": [
    {
     "data": {
      "text/html": [
       "\n",
       "            <div>\n",
       "                <p><b>SparkSession - in-memory</b></p>\n",
       "                \n",
       "        <div>\n",
       "            <p><b>SparkContext</b></p>\n",
       "\n",
       "            <p><a href=\"http://mipt-client.atp-fivt.org:4043\">Spark UI</a></p>\n",
       "\n",
       "            <dl>\n",
       "              <dt>Version</dt>\n",
       "                <dd><code>v2.4.0.cloudera2</code></dd>\n",
       "              <dt>Master</dt>\n",
       "                <dd><code>yarn</code></dd>\n",
       "              <dt>AppName</dt>\n",
       "                <dd><code>PySparkShell</code></dd>\n",
       "            </dl>\n",
       "        </div>\n",
       "        \n",
       "            </div>\n",
       "        "
      ],
      "text/plain": [
       "<pyspark.sql.session.SparkSession at 0x7f9fb26e7a90>"
      ]
     },
     "execution_count": 2,
     "metadata": {},
     "output_type": "execute_result"
    }
   ],
   "source": [
    "spark = SparkSession.builder.appName(\"anokhin\").getOrCreate()\n",
    "spark"
   ]
  },
  {
   "cell_type": "markdown",
   "metadata": {},
   "source": [
    "## Model Based Collaborative filtering\n",
    "\n",
    "### Собираем данные на Spark и сохраняем как pandas dataframe"
   ]
  },
  {
   "cell_type": "code",
   "execution_count": 3,
   "metadata": {},
   "outputs": [
    {
     "name": "stdout",
     "output_type": "stream",
     "text": [
      "+----+-----+----+-----+\n",
      "|user|track|time| test|\n",
      "+----+-----+----+-----+\n",
      "|8919|38622|0.99| true|\n",
      "|2803|12040| 1.0| true|\n",
      "|6263|19518| 1.0|false|\n",
      "|5109| 7098| 1.0|false|\n",
      "|  30| 1046| 1.0| true|\n",
      "|3300| 4460| 1.0|false|\n",
      "|9626|29437|0.91| true|\n",
      "|2910|  559| 1.0|false|\n",
      "|9924|18350| 1.0|false|\n",
      "|1925|  511| 1.0|false|\n",
      "+----+-----+----+-----+\n",
      "\n"
     ]
    }
   ],
   "source": [
    "data = (\n",
    "    spark.read.json(\"/user/anokhin/week03/*/data.json\")\n",
    "        .filter(spf.col(\"time\") > 0.8)\n",
    "        .select(\"user\", \"track\", \"time\")\n",
    "        .groupBy(\"user\", \"track\")\n",
    "        .agg(\n",
    "            spf.avg(\"time\").alias(\"time\")\n",
    "        )\n",
    "        .withColumn(\"test\", spf.rand() > 0.7)\n",
    ")\n",
    "\n",
    "data.limit(10).show()"
   ]
  },
  {
   "cell_type": "code",
   "execution_count": 4,
   "metadata": {
    "tags": []
   },
   "outputs": [],
   "source": [
    "data.toPandas().to_json(\"/home/anokhin/data/week04.json\", orient=\"records\", lines=True)"
   ]
  },
  {
   "cell_type": "markdown",
   "metadata": {},
   "source": [
    "### Обучаем ALS на Spark и сохраняем рекомендации"
   ]
  },
  {
   "cell_type": "code",
   "execution_count": 5,
   "metadata": {
    "tags": []
   },
   "outputs": [],
   "source": [
    "als = ALS(\n",
    "    rank=50,\n",
    "    maxIter=25, \n",
    "    regParam=0.1, \n",
    "    userCol=\"user\", \n",
    "    itemCol=\"track\", \n",
    "    ratingCol=\"time\",\n",
    "    coldStartStrategy=\"drop\",\n",
    ").fit(data.filter(spf.col(\"test\") == False))"
   ]
  },
  {
   "cell_type": "code",
   "execution_count": 6,
   "metadata": {},
   "outputs": [
    {
     "name": "stdout",
     "output_type": "stream",
     "text": [
      "Root-mean-square error = 0.10660422882594421\n"
     ]
    }
   ],
   "source": [
    "predictions = als.transform(data.filter(spf.col(\"test\") == True))\n",
    "\n",
    "evaluator = RegressionEvaluator(\n",
    "    metricName=\"rmse\", \n",
    "    labelCol=\"time\",\n",
    "    predictionCol=\"prediction\"\n",
    ")\n",
    "\n",
    "rmse = evaluator.evaluate(predictions)\n",
    "print(\"Root-mean-square error = \" + str(rmse))"
   ]
  },
  {
   "cell_type": "code",
   "execution_count": 7,
   "metadata": {
    "tags": []
   },
   "outputs": [],
   "source": [
    "(\n",
    "    als\n",
    "        .recommendForAllUsers(100)\n",
    "        .select(\n",
    "            spf.col(\"user\"),\n",
    "            spf.col(\"recommendations.track\").alias(\"tracks\")\n",
    "        )\n",
    ").toPandas().to_json(\"/home/anokhin/data/recomendations_als.json\", orient=\"records\", lines=True)"
   ]
  },
  {
   "cell_type": "markdown",
   "metadata": {},
   "source": [
    "### Train LightFM"
   ]
  },
  {
   "cell_type": "code",
   "execution_count": 2,
   "metadata": {
    "tags": []
   },
   "outputs": [
    {
     "name": "stderr",
     "output_type": "stream",
     "text": [
      "/Users/n.anokhin/Projects/virtualenv/recsys-course/lib/python3.8/site-packages/lightfm/_lightfm_fast.py:9: UserWarning: LightFM was compiled without OpenMP support. Only a single thread will be used.\n",
      "  warnings.warn(\n"
     ]
    }
   ],
   "source": [
    "import pandas as pd\n",
    "import numpy as np\n",
    "import scipy.stats as ss\n",
    "import scipy.special as sp\n",
    "\n",
    "import lightfm\n",
    "import lightfm.data as ld\n",
    "import lightfm.evaluation as lv\n",
    "\n",
    "import tqdm\n",
    "import json\n",
    "import optuna\n",
    "\n",
    "import tensorboardX as tb\n",
    "\n",
    "import matplotlib.pyplot as pl\n",
    "import seaborn as sns\n",
    "\n",
    "np.random.seed(31337)"
   ]
  },
  {
   "cell_type": "code",
   "execution_count": 3,
   "metadata": {
    "tags": []
   },
   "outputs": [
    {
     "data": {
      "text/html": [
       "<div>\n",
       "<style scoped>\n",
       "    .dataframe tbody tr th:only-of-type {\n",
       "        vertical-align: middle;\n",
       "    }\n",
       "\n",
       "    .dataframe tbody tr th {\n",
       "        vertical-align: top;\n",
       "    }\n",
       "\n",
       "    .dataframe thead th {\n",
       "        text-align: right;\n",
       "    }\n",
       "</style>\n",
       "<table border=\"1\" class=\"dataframe\">\n",
       "  <thead>\n",
       "    <tr style=\"text-align: right;\">\n",
       "      <th></th>\n",
       "      <th>user</th>\n",
       "      <th>track</th>\n",
       "      <th>time</th>\n",
       "      <th>test</th>\n",
       "    </tr>\n",
       "  </thead>\n",
       "  <tbody>\n",
       "    <tr>\n",
       "      <th>0</th>\n",
       "      <td>722</td>\n",
       "      <td>48555</td>\n",
       "      <td>0.86</td>\n",
       "      <td>True</td>\n",
       "    </tr>\n",
       "    <tr>\n",
       "      <th>1</th>\n",
       "      <td>1514</td>\n",
       "      <td>401</td>\n",
       "      <td>1.00</td>\n",
       "      <td>False</td>\n",
       "    </tr>\n",
       "    <tr>\n",
       "      <th>2</th>\n",
       "      <td>4135</td>\n",
       "      <td>43182</td>\n",
       "      <td>0.89</td>\n",
       "      <td>True</td>\n",
       "    </tr>\n",
       "    <tr>\n",
       "      <th>3</th>\n",
       "      <td>4677</td>\n",
       "      <td>1927</td>\n",
       "      <td>0.98</td>\n",
       "      <td>False</td>\n",
       "    </tr>\n",
       "    <tr>\n",
       "      <th>4</th>\n",
       "      <td>7121</td>\n",
       "      <td>27807</td>\n",
       "      <td>0.95</td>\n",
       "      <td>False</td>\n",
       "    </tr>\n",
       "  </tbody>\n",
       "</table>\n",
       "</div>"
      ],
      "text/plain": [
       "   user  track  time   test\n",
       "0   722  48555  0.86   True\n",
       "1  1514    401  1.00  False\n",
       "2  4135  43182  0.89   True\n",
       "3  4677   1927  0.98  False\n",
       "4  7121  27807  0.95  False"
      ]
     },
     "execution_count": 3,
     "metadata": {},
     "output_type": "execute_result"
    }
   ],
   "source": [
    "data = pd.read_json(\"/Users/n.anokhin/Desktop/week04.json\", lines=True)\n",
    "\n",
    "data.head()"
   ]
  },
  {
   "cell_type": "code",
   "execution_count": 5,
   "metadata": {
    "tags": []
   },
   "outputs": [
    {
     "data": {
      "text/plain": [
       "10000"
      ]
     },
     "execution_count": 5,
     "metadata": {},
     "output_type": "execute_result"
    }
   ],
   "source": [
    "user_counts = data.loc[~data[\"test\"], \"user\"].value_counts()\n",
    "users = set(user_counts[user_counts >= 5].index.values)\n",
    "\n",
    "len(users)"
   ]
  },
  {
   "cell_type": "code",
   "execution_count": 6,
   "metadata": {
    "tags": []
   },
   "outputs": [
    {
     "data": {
      "text/plain": [
       "8264"
      ]
     },
     "execution_count": 6,
     "metadata": {},
     "output_type": "execute_result"
    }
   ],
   "source": [
    "track_counts = data.loc[~data[\"test\"], \"track\"].value_counts()\n",
    "tracks = set(track_counts[track_counts >= 5].index.values)\n",
    "\n",
    "len(tracks)"
   ]
  },
  {
   "cell_type": "code",
   "execution_count": 7,
   "metadata": {
    "tags": []
   },
   "outputs": [
    {
     "data": {
      "text/plain": [
       "(121481, 48688)"
      ]
     },
     "execution_count": 7,
     "metadata": {},
     "output_type": "execute_result"
    }
   ],
   "source": [
    "train_data = data[~data[\"test\"] & data[\"user\"].isin(users) & data[\"track\"].isin(tracks)]\n",
    "test_data = data[data[\"test\"] & data[\"user\"].isin(users) & data[\"track\"].isin(tracks)]\n",
    "\n",
    "len(train_data), len(test_data)"
   ]
  },
  {
   "cell_type": "code",
   "execution_count": 8,
   "metadata": {
    "tags": []
   },
   "outputs": [],
   "source": [
    "dataset = ld.Dataset()\n",
    "dataset.fit(users, tracks)"
   ]
  },
  {
   "cell_type": "code",
   "execution_count": 12,
   "metadata": {
    "tags": []
   },
   "outputs": [],
   "source": [
    "train_interactions, _ = dataset.build_interactions(train_data[[\"user\", \"track\"]].itertuples(index=False, name=None))\n",
    "test_interactions, _ = dataset.build_interactions(test_data[[\"user\", \"track\"]].itertuples(index=False, name=None))"
   ]
  },
  {
   "cell_type": "code",
   "execution_count": 20,
   "metadata": {
    "tags": []
   },
   "outputs": [],
   "source": [
    "def fit_model(epochs=1, at=10, loss=\"warp\", no_components=30, learning_rate=0.01, max_sampled=10, user_alpha=0.0, item_alpha=0.0, threads=30, verbose=False):\n",
    "    model = lightfm.LightFM(\n",
    "        no_components=no_components,\n",
    "        loss=loss,\n",
    "        learning_rate=learning_rate,\n",
    "        max_sampled=max_sampled,\n",
    "        user_alpha=user_alpha,\n",
    "        item_alpha=user_alpha,\n",
    "    )\n",
    "\n",
    "    precisions_at = []\n",
    "    for epoch in range(epochs):\n",
    "        model = model.fit_partial(train_interactions, num_threads=threads)\n",
    "        precision_at = lv.precision_at_k(model, test_interactions, train_interactions=train_interactions, k=at, num_threads=threads)\n",
    "        if verbose:\n",
    "            print(f\"{epoch}:\\t{np.mean(precision_at)} +/- {ss.sem(precision_at) * 1.96}\")\n",
    "        precisions_at.append(np.mean(precision_at))\n",
    "            \n",
    "    return model, precisions_at\n",
    "\n",
    "\n",
    "def objective(trial):\n",
    "    loss = trial.suggest_categorical(\"loss\", [\"warp\", \"bpr\"])\n",
    "    no_components = trial.suggest_categorical(\"no_components\", [10, 30, 50])\n",
    "    learning_rate = trial.suggest_categorical(\"learning_rate\", [0.001, 0.01])\n",
    "    max_sampled = trial.suggest_categorical(\"max_sampled\", [10, 20, 50, 100])\n",
    "    user_alpha = trial.suggest_categorical(\"user_alpha\", [0.0, 0.001, 0.01])\n",
    "    item_alpha = trial.suggest_categorical(\"item_alpha\", [0.0, 0.001, 0.01])\n",
    "    \n",
    "    model, precisions_at = fit_model(\n",
    "        epochs=1, \n",
    "        at=10,\n",
    "        loss=loss,\n",
    "        no_components=no_components, \n",
    "        learning_rate=learning_rate, \n",
    "        max_sampled=max_sampled, \n",
    "        user_alpha=user_alpha, \n",
    "        item_alpha=item_alpha,\n",
    "    )\n",
    "    \n",
    "    return precisions_at[-1]"
   ]
  },
  {
   "cell_type": "code",
   "execution_count": 21,
   "metadata": {
    "tags": []
   },
   "outputs": [
    {
     "name": "stderr",
     "output_type": "stream",
     "text": [
      "\u001b[32m[I 2023-10-12 15:53:11,288]\u001b[0m A new study created in memory with name: no-name-208d3ccb-8ee9-4863-b0ac-becc38dd828d\u001b[0m\n",
      "\u001b[32m[I 2023-10-12 15:53:16,380]\u001b[0m Trial 0 finished with value: 0.016688581556081772 and parameters: {'loss': 'warp', 'no_components': 30, 'learning_rate': 0.001, 'max_sampled': 20, 'user_alpha': 0.0, 'item_alpha': 0.001}. Best is trial 0 with value: 0.016688581556081772.\u001b[0m\n",
      "\u001b[32m[I 2023-10-12 15:53:21,507]\u001b[0m Trial 1 finished with value: 0.017123496159911156 and parameters: {'loss': 'warp', 'no_components': 30, 'learning_rate': 0.001, 'max_sampled': 10, 'user_alpha': 0.001, 'item_alpha': 0.001}. Best is trial 1 with value: 0.017123496159911156.\u001b[0m\n",
      "\u001b[32m[I 2023-10-12 15:53:25,614]\u001b[0m Trial 2 finished with value: 0.01660766825079918 and parameters: {'loss': 'warp', 'no_components': 10, 'learning_rate': 0.001, 'max_sampled': 10, 'user_alpha': 0.001, 'item_alpha': 0.0}. Best is trial 1 with value: 0.017123496159911156.\u001b[0m\n",
      "\u001b[32m[I 2023-10-12 15:53:30,000]\u001b[0m Trial 3 finished with value: 0.0021138868760317564 and parameters: {'loss': 'bpr', 'no_components': 10, 'learning_rate': 0.01, 'max_sampled': 100, 'user_alpha': 0.01, 'item_alpha': 0.01}. Best is trial 1 with value: 0.017123496159911156.\u001b[0m\n",
      "\u001b[32m[I 2023-10-12 15:53:35,157]\u001b[0m Trial 4 finished with value: 0.017022352665662766 and parameters: {'loss': 'warp', 'no_components': 30, 'learning_rate': 0.01, 'max_sampled': 100, 'user_alpha': 0.01, 'item_alpha': 0.01}. Best is trial 1 with value: 0.017123496159911156.\u001b[0m\n"
     ]
    },
    {
     "data": {
      "text/plain": [
       "{'loss': 'warp',\n",
       " 'no_components': 30,\n",
       " 'learning_rate': 0.001,\n",
       " 'max_sampled': 10,\n",
       " 'user_alpha': 0.001,\n",
       " 'item_alpha': 0.001}"
      ]
     },
     "execution_count": 21,
     "metadata": {},
     "output_type": "execute_result"
    }
   ],
   "source": [
    "study = optuna.create_study(direction=\"maximize\")\n",
    "study.optimize(objective, n_trials=100)\n",
    "best_params = study.best_params\n",
    "\n",
    "best_params"
   ]
  },
  {
   "cell_type": "code",
   "execution_count": 22,
   "metadata": {
    "tags": []
   },
   "outputs": [],
   "source": [
    "best_params = {\n",
    "    'loss': 'warp',\n",
    "    'no_components': 50,\n",
    "    'learning_rate': 0.01,\n",
    "    'max_sampled': 100,\n",
    "    'user_alpha': 0.0,\n",
    "    'item_alpha': 0.01\n",
    "}"
   ]
  },
  {
   "cell_type": "code",
   "execution_count": 23,
   "metadata": {
    "tags": []
   },
   "outputs": [
    {
     "name": "stdout",
     "output_type": "stream",
     "text": [
      "0:\t0.01708303950726986 +/- 0.000990550136266595\n",
      "1:\t0.021604126319289207 +/- 0.0011922295784725415\n",
      "2:\t0.025022758170962334 +/- 0.0013326977024009366\n",
      "3:\t0.02839081734418869 +/- 0.0014235505575504112\n",
      "4:\t0.03296247869729996 +/- 0.0015331738918200563\n",
      "5:\t0.037261053919792175 +/- 0.0016148935986347091\n",
      "6:\t0.04201476648449898 +/- 0.0016987974596597481\n",
      "7:\t0.046687569469213486 +/- 0.0017684203123861113\n",
      "8:\t0.05114797502756119 +/- 0.0018359769423054602\n",
      "9:\t0.054768893867731094 +/- 0.0018852812275891894\n",
      "10:\t0.0583898089826107 +/- 0.0019394252531801436\n",
      "11:\t0.061525240540504456 +/- 0.001971808658464573\n",
      "12:\t0.06517649441957474 +/- 0.0020153400326602283\n",
      "13:\t0.06833215802907944 +/- 0.0020441386463819016\n",
      "14:\t0.07192272692918777 +/- 0.0020751568084213246\n",
      "15:\t0.07486598938703537 +/- 0.0021041075727456044\n",
      "16:\t0.07797107845544815 +/- 0.002124720895264909\n",
      "17:\t0.08103571087121964 +/- 0.0021522168295994046\n",
      "18:\t0.08417113870382309 +/- 0.0021839283342980007\n",
      "19:\t0.08735714107751846 +/- 0.0022108191909464554\n",
      "20:\t0.09038130939006805 +/- 0.00224395394997889\n",
      "21:\t0.09318297356367111 +/- 0.0022607519052152735\n",
      "22:\t0.09562051296234131 +/- 0.0022816892086509385\n",
      "23:\t0.09841205924749374 +/- 0.0022997449030385956\n",
      "24:\t0.1010822281241417 +/- 0.002321461170563279\n",
      "25:\t0.10359057039022446 +/- 0.002340716739876894\n",
      "26:\t0.10596742480993271 +/- 0.0023589928764021105\n",
      "27:\t0.10818247497081757 +/- 0.0023739413793811386\n",
      "28:\t0.11035704612731934 +/- 0.0023916842544796533\n",
      "29:\t0.11268333345651627 +/- 0.002409449159105572\n",
      "30:\t0.11459492146968842 +/- 0.002421444677367802\n",
      "31:\t0.11661778390407562 +/- 0.0024361360223302633\n",
      "32:\t0.11869122087955475 +/- 0.002448576830773093\n",
      "33:\t0.1205623522400856 +/- 0.002463170805224427\n",
      "34:\t0.12246384471654892 +/- 0.0024731319700626204\n",
      "35:\t0.12396076321601868 +/- 0.0024854408950680563\n",
      "36:\t0.12533630430698395 +/- 0.002497190563804453\n",
      "37:\t0.1269141286611557 +/- 0.0025079089569312934\n",
      "38:\t0.12865379452705383 +/- 0.002515921536638812\n",
      "39:\t0.1302012801170349 +/- 0.002525351349276012\n",
      "40:\t0.13153637945652008 +/- 0.0025288120411677234\n",
      "41:\t0.13278043270111084 +/- 0.0025382668206026487\n",
      "42:\t0.1340244710445404 +/- 0.002544825745228511\n",
      "43:\t0.13549105823040009 +/- 0.002548699417327296\n",
      "44:\t0.1366744190454483 +/- 0.002549822335770855\n",
      "45:\t0.13762517273426056 +/- 0.0025530694881102595\n",
      "46:\t0.13874784111976624 +/- 0.0025610794242744896\n",
      "47:\t0.13975928723812103 +/- 0.0025651807348231206\n",
      "48:\t0.14063923060894012 +/- 0.002569700900119466\n",
      "49:\t0.1415899693965912 +/- 0.0025725062870026547\n",
      "50:\t0.14272275567054749 +/- 0.002576747999072609\n",
      "51:\t0.1437341868877411 +/- 0.0025802186776834103\n",
      "52:\t0.14481642842292786 +/- 0.00258632350031771\n",
      "53:\t0.14552442729473114 +/- 0.0025847094702765496\n",
      "54:\t0.14663700759410858 +/- 0.0025911353365568896\n",
      "55:\t0.1473652571439743 +/- 0.002594039709449882\n",
      "56:\t0.14835643768310547 +/- 0.002602827434795003\n",
      "57:\t0.14922624826431274 +/- 0.0026052483329932277\n",
      "58:\t0.1499241441488266 +/- 0.002607855747856809\n",
      "59:\t0.1508142054080963 +/- 0.0026135276168458552\n",
      "60:\t0.15162335336208344 +/- 0.0026178885820908253\n",
      "61:\t0.1521998643875122 +/- 0.0026213263632740356\n",
      "62:\t0.15285728871822357 +/- 0.002623477913783863\n",
      "63:\t0.1537068784236908 +/- 0.0026290513842171697\n",
      "64:\t0.15457671880722046 +/- 0.0026304618614251137\n",
      "65:\t0.15533530712127686 +/- 0.0026333418549744454\n",
      "66:\t0.15585112571716309 +/- 0.0026330648703832144\n",
      "67:\t0.1562759280204773 +/- 0.0026344756413181907\n",
      "68:\t0.15681196749210358 +/- 0.002632167240573244\n",
      "69:\t0.15738849341869354 +/- 0.002636039150309837\n",
      "70:\t0.15827853977680206 +/- 0.0026387376205533565\n",
      "71:\t0.15877415239810944 +/- 0.0026400514615677532\n",
      "72:\t0.1590978056192398 +/- 0.0026388812530720334\n",
      "73:\t0.1598159223794937 +/- 0.002644577207677708\n",
      "74:\t0.16039243340492249 +/- 0.002646989587792003\n",
      "75:\t0.16109031438827515 +/- 0.0026549346102821485\n",
      "76:\t0.16177810728549957 +/- 0.0026540795708918266\n",
      "77:\t0.1622534543275833 +/- 0.0026585706572119982\n",
      "78:\t0.16251644492149353 +/- 0.0026616406921510715\n",
      "79:\t0.1629210114479065 +/- 0.0026602986533415976\n",
      "80:\t0.1635076403617859 +/- 0.0026619726036972977\n",
      "81:\t0.1640234887599945 +/- 0.002665806035192691\n",
      "82:\t0.1645190715789795 +/- 0.0026649222105532273\n",
      "83:\t0.16504500806331635 +/- 0.0026714497063866595\n",
      "84:\t0.1652776449918747 +/- 0.00267049509353247\n",
      "85:\t0.1657833456993103 +/- 0.002675381830164824\n",
      "86:\t0.16605643928050995 +/- 0.0026765129729652806\n",
      "87:\t0.1664610058069229 +/- 0.002679081028406567\n",
      "88:\t0.16689592599868774 +/- 0.002679496064702865\n",
      "89:\t0.16732072830200195 +/- 0.002681081896948948\n",
      "90:\t0.16761402785778046 +/- 0.002681365343534884\n",
      "91:\t0.16802872717380524 +/- 0.0026824926678839242\n",
      "92:\t0.16840296983718872 +/- 0.0026863375547335673\n",
      "93:\t0.168767049908638 +/- 0.0026871141690063298\n",
      "94:\t0.16908061504364014 +/- 0.0026865487444696174\n",
      "95:\t0.16947507858276367 +/- 0.0026874966016020695\n",
      "96:\t0.16968746483325958 +/- 0.0026854322880207637\n",
      "97:\t0.1699908971786499 +/- 0.0026864635636303204\n",
      "98:\t0.17029431462287903 +/- 0.0026852865994128625\n",
      "99:\t0.17062810063362122 +/- 0.002686054695601695\n"
     ]
    }
   ],
   "source": [
    "model, precisions_at = fit_model(\n",
    "    epochs=100,\n",
    "    at=10,\n",
    "    loss=best_params[\"loss\"],\n",
    "    no_components=best_params[\"no_components\"], \n",
    "    learning_rate=best_params[\"learning_rate\"], \n",
    "    max_sampled=best_params[\"max_sampled\"],\n",
    "    user_alpha=best_params[\"user_alpha\"],\n",
    "    item_alpha=best_params[\"item_alpha\"],\n",
    "    verbose=True,\n",
    ")"
   ]
  },
  {
   "cell_type": "code",
   "execution_count": 24,
   "metadata": {
    "tags": []
   },
   "outputs": [
    {
     "data": {
      "image/png": "[encoded data removed]",
      "text/plain": [
       "<Figure size 640x480 with 1 Axes>"
      ]
     },
     "metadata": {},
     "output_type": "display_data"
    }
   ],
   "source": [
    "figure, ax = pl.subplots()\n",
    "\n",
    "ax.plot(np.arange(len(precisions_at)), precisions_at)\n",
    "\n",
    "pass"
   ]
  },
  {
   "cell_type": "code",
   "execution_count": 25,
   "metadata": {
    "tags": []
   },
   "outputs": [
    {
     "data": {
      "text/plain": [
       "1.0068346544262243"
      ]
     },
     "execution_count": 25,
     "metadata": {},
     "output_type": "execute_result"
    }
   ],
   "source": [
    "predictions = model.predict(\n",
    "    test_data[\"user\"].map(dataset.mapping()[0]).values,\n",
    "    test_data[\"track\"].map(dataset.mapping()[2]).values,\n",
    ")\n",
    "\n",
    "rmse = np.sqrt(((predictions - test_data[\"time\"].values) * (predictions - test_data[\"time\"].values)).mean())\n",
    "rmse # Q: ???"
   ]
  },
  {
   "cell_type": "markdown",
   "metadata": {},
   "source": [
    "## Save track embeddings"
   ]
  },
  {
   "cell_type": "code",
   "execution_count": 26,
   "metadata": {
    "tags": []
   },
   "outputs": [],
   "source": [
    "BOTIFY_DATA_DIR = \"/Users/n.anokhin/Projects/recsys-course/botify/data/\""
   ]
  },
  {
   "cell_type": "code",
   "execution_count": 27,
   "metadata": {
    "tags": []
   },
   "outputs": [],
   "source": [
    "biases, embeddings = model.get_item_representations()"
   ]
  },
  {
   "cell_type": "code",
   "execution_count": 28,
   "metadata": {
    "tags": []
   },
   "outputs": [],
   "source": [
    "track_meta = pd.read_json(BOTIFY_DATA_DIR + \"tracks.json\", lines=True)\n",
    "track_meta[\"dataset_index\"] = track_meta[\"track\"].map(lambda t: dataset.mapping()[2].get(t))"
   ]
  },
  {
   "cell_type": "code",
   "execution_count": 29,
   "metadata": {
    "tags": []
   },
   "outputs": [],
   "source": [
    "dataset_tracks = track_meta[pd.notnull(track_meta[\"dataset_index\"])].sort_values(\"dataset_index\")"
   ]
  },
  {
   "cell_type": "code",
   "execution_count": 30,
   "metadata": {
    "tags": []
   },
   "outputs": [],
   "source": [
    "writer = tb.SummaryWriter(comment='msd_ligtfm_embeddings', log_dir=\"/Users/n.anokhin/Desktop/tb\")\n",
    "writer.add_embedding(embeddings, metadata=list(dataset_tracks[[\"artist\", \"title\"]].itertuples(index=False, name=None)), tag=\"lightfm\", metadata_header=[\"artist\", \"title\"])\n",
    "writer.close()"
   ]
  },
  {
   "cell_type": "markdown",
   "metadata": {},
   "source": [
    "## Compute top recommendations"
   ]
  },
  {
   "cell_type": "code",
   "execution_count": 31,
   "metadata": {
    "tags": []
   },
   "outputs": [],
   "source": [
    "tracks = dataset_tracks[\"track\"].values\n",
    "users = [user for user, index in sorted(dataset.mapping()[0].items(), key=lambda kv: kv[1])]"
   ]
  },
  {
   "cell_type": "code",
   "execution_count": 32,
   "metadata": {
    "tags": []
   },
   "outputs": [
    {
     "data": {
      "text/plain": [
       "array([ 0.5702357 , -0.7637996 ,  0.01772008, ..., -1.3007761 ,\n",
       "       -0.85846007, -1.3485311 ], dtype=float32)"
      ]
     },
     "execution_count": 32,
     "metadata": {},
     "output_type": "execute_result"
    }
   ],
   "source": [
    "predictions = model.predict(1, np.arange(dataset.item_features_shape()[0]), num_threads=30)\n",
    "predictions"
   ]
  },
  {
   "cell_type": "code",
   "execution_count": 33,
   "metadata": {
    "tags": []
   },
   "outputs": [
    {
     "name": "stderr",
     "output_type": "stream",
     "text": [
      "100%|████████████████████████████████████████████████████████████████████████████████████████████████████████████████████████████████████████████████████████████████| 10000/10000 [00:12<00:00, 827.71it/s]\n"
     ]
    }
   ],
   "source": [
    "with open(BOTIFY_DATA_DIR + \"recommendations_lfm.json\", \"w\") as rf:\n",
    "    for user_index in tqdm.tqdm(range(dataset.user_features_shape()[0])):\n",
    "        predictions = model.predict(user_index, np.arange(dataset.item_features_shape()[0]), num_threads=30)\n",
    "        top = tracks[np.argsort(predictions)[-100:]]\n",
    "        recommendation = {\n",
    "            \"user\": int(users[user_index]),\n",
    "            \"tracks\": top.tolist()\n",
    "        }\n",
    "        rf.write(json.dumps(recommendation) + \"\\n\")"
   ]
  },
  {
   "cell_type": "code",
   "execution_count": null,
   "metadata": {
    "tags": []
   },
   "outputs": [],
   "source": []
  }
 ],
 "metadata": {
  "kernelspec": {
   "display_name": "Python 3 (ipykernel)",
   "language": "python",
   "name": "python3"
  },
  "language_info": {
   "codemirror_mode": {
    "name": "ipython",
    "version": 3
   },
   "file_extension": ".py",
   "mimetype": "text/x-python",
   "name": "python",
   "nbconvert_exporter": "python",
   "pygments_lexer": "ipython3",
   "version": "3.8.0"
  }
 },
 "nbformat": 4,
 "nbformat_minor": 4
}
